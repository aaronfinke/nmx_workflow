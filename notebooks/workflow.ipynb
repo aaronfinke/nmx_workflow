{
 "cells": [
  {
   "cell_type": "markdown",
   "metadata": {},
   "source": [
    "# NMX Demo\n",
    "In this example, we will use simulated data from McStas v.3.4.\n",
    "\n",
    "This is simulated data on a crystal of Rubredoxin, a small protein, using the \"standard\" conditions for NMX. <br>\n",
    "| Parameter | Value | Notes |\n",
    "|-----------|-------|-------|\n",
    "| `wavelength_range` ($\\mathring A$) | 1.8 - 3.55 | The planned range for standard NMX experiments |\n",
    "| `protein_name` | Rubredoxin | Associated Common protein name |\n",
    "| `unit_cell` | $a$ = 33.9 Å, $b$ = 34.9 Å, $c$ = 43.5 Å <br>  $\\alpha$ = $\\beta$ = $\\gamma$ = 90° | Unit cell of rubredoxin |\n",
    "| `space_group` | $P2_{1}2_{1}2_{1}$ (19) | Space group of rubredoxin\n",
    "\n",
    "## Build Pipeline (Collect Parameters and Providers)\n",
    "Import the providers from ``load_mcstas_nexus`` to use the ``McStas`` simulation data workflow. <br>\n",
    "``MaximumProbability`` can be manually provided to derive more realistic number of events. <br>\n",
    "It is because ``weights`` are given as probability, not number of events in a McStas file. <br>"
   ]
  },
  {
   "cell_type": "code",
   "execution_count": 1,
   "metadata": {},
   "outputs": [],
   "source": [
    "%matplotlib widget\n",
    "%load_ext autoreload\n",
    "%autoreload 2\n",
    "\n",
    "from pathlib import Path\n",
    "import h5py\n",
    "import gemmi\n",
    "from ess.nmx.mcstas import McStasWorkflow\n",
    "import numpy as np\n",
    "\n",
    "from ess.nmx.types import *\n",
    "from ess.nmx.reduction import NMXData, NMXReducedData, merge_panels\n",
    "from ess.nmx.nexus import export_as_nexus"
   ]
  },
  {
   "cell_type": "code",
   "execution_count": 13,
   "metadata": {},
   "outputs": [],
   "source": [
    "datafiles = [\"mccode_phi0.h5\", \"mccode_phi10.h5\", \"mccode_phi20.h5\", \"mccode_phi30.h5\", \"mccode_phi40.h5\", \"mccode_phi50.h5\"]"
   ]
  },
  {
   "cell_type": "code",
   "execution_count": 2,
   "metadata": {},
   "outputs": [
    {
     "name": "stderr",
     "output_type": "stream",
     "text": [
      "\u001b[32m2025-02-21 10:11:27.136\u001b[0m | \u001b[1mINFO    \u001b[0m | \u001b[36mnmx_workflow.config\u001b[0m:\u001b[36m<module>\u001b[0m:\u001b[36m11\u001b[0m - \u001b[1mPROJ_ROOT path is: /Users/aaronfinke/nmx_workflow/nmx_workflow\u001b[0m\n"
     ]
    }
   ],
   "source": [
    "from nmx_workflow.config import POOCH_DATA_DIR\n",
    "# from nmx_workflow.dataset import download_datafiles\n",
    "# download_datafiles([datafile])\n",
    "\n",
    "# datafile_paths = [POOCH_DATA_DIR / datafile for datafile in datafiles]\n",
    "# assert False not in [df.exists() for df in datafile_paths]"
   ]
  },
  {
   "cell_type": "code",
   "execution_count": 15,
   "metadata": {},
   "outputs": [
    {
     "data": {
      "text/plain": [
       "[<sciline.pipeline.Pipeline at 0x15b286520>,\n",
       " <sciline.pipeline.Pipeline at 0x15b286ea0>,\n",
       " <sciline.pipeline.Pipeline at 0x15b287100>,\n",
       " <sciline.pipeline.Pipeline at 0x15b2862c0>,\n",
       " <sciline.pipeline.Pipeline at 0x15b2863f0>]"
      ]
     },
     "execution_count": 15,
     "metadata": {},
     "output_type": "execute_result"
    }
   ],
   "source": [
    "wfs = [McStasWorkflow() for _ in range(5)]\n",
    "wfs"
   ]
  },
  {
   "cell_type": "code",
   "execution_count": 16,
   "metadata": {},
   "outputs": [
    {
     "ename": "NameError",
     "evalue": "name 'datafile_paths' is not defined",
     "output_type": "error",
     "traceback": [
      "\u001b[0;31m---------------------------------------------------------------------------\u001b[0m",
      "\u001b[0;31mNameError\u001b[0m                                 Traceback (most recent call last)",
      "Cell \u001b[0;32mIn[16], line 1\u001b[0m\n\u001b[0;32m----> 1\u001b[0m \u001b[38;5;28;01mfor\u001b[39;00m wf, datafile \u001b[38;5;129;01min\u001b[39;00m \u001b[38;5;28mzip\u001b[39m(wfs, \u001b[43mdatafile_paths\u001b[49m):\n\u001b[1;32m      2\u001b[0m     \u001b[38;5;66;03m# Replace with the path to your own file\u001b[39;00m\n\u001b[1;32m      3\u001b[0m     wf[FilePath] \u001b[38;5;241m=\u001b[39m datafile\n\u001b[1;32m      4\u001b[0m     wf[MaximumProbability] \u001b[38;5;241m=\u001b[39m \u001b[38;5;241m10000\u001b[39m\n",
      "\u001b[0;31mNameError\u001b[0m: name 'datafile_paths' is not defined"
     ]
    }
   ],
   "source": [
    "for wf, datafile in zip(wfs, datafile_paths):\n",
    "    # Replace with the path to your own file\n",
    "    wf[FilePath] = datafile\n",
    "    wf[MaximumProbability] = 10000\n",
    "    wf[TimeBinSteps] = 50"
   ]
  },
  {
   "cell_type": "code",
   "execution_count": 19,
   "metadata": {},
   "outputs": [
    {
     "data": {
      "text/html": [
       "<div class=\"pipeline-html-repr\">\n",
       "      <table>\n",
       "        <thead>\n",
       "          <tr>\n",
       "            <th scope=\"col\">Name</th>\n",
       "            <th scope=\"col\">Value</th>\n",
       "            <th scope=\"col\">Source</th>\n",
       "          </tr>\n",
       "        </thead>\n",
       "        <tbody>\n",
       "          \n",
       "        <tr>\n",
       "          <td scope=\"row\">CrystalRotation</td>\n",
       "          <td scope=\"row\"></td>\n",
       "          <td scope=\"row\">\n",
       "    <details>\n",
       "      <summary>load_crystal_rotation</summary>\n",
       "      ess.nmx.mcstas.load.load_crystal_rotation\n",
       "    </details>\n",
       "    </th>\n",
       "        </tr>\n",
       "\n",
       "        <tr>\n",
       "          <td scope=\"row\">DetectorBankPrefix</td>\n",
       "          <td scope=\"row\"></td>\n",
       "          <td scope=\"row\">\n",
       "    <details>\n",
       "      <summary>load_event_data_bank_name</summary>\n",
       "      ess.nmx.mcstas.load.load_event_data_bank_name\n",
       "    </details>\n",
       "    </th>\n",
       "        </tr>\n",
       "\n",
       "        <tr>\n",
       "          <td scope=\"row\">DetectorIndex</td>\n",
       "          <td scope=\"row\"></td>\n",
       "          <td scope=\"row\"></th>\n",
       "        </tr>\n",
       "\n",
       "        <tr>\n",
       "          <td scope=\"row\">DetectorName</td>\n",
       "          <td scope=\"row\"></td>\n",
       "          <td scope=\"row\">\n",
       "    <details>\n",
       "      <summary>detector_name_from_index</summary>\n",
       "      ess.nmx.mcstas.load.detector_name_from_index\n",
       "    </details>\n",
       "    </th>\n",
       "        </tr>\n",
       "\n",
       "        <tr>\n",
       "          <td scope=\"row\">EventData</td>\n",
       "          <td scope=\"row\"></td>\n",
       "          <td scope=\"row\">\n",
       "    <details>\n",
       "      <summary>event_weights_from_probability</summary>\n",
       "      ess.nmx.mcstas.load.event_weights_from_probability\n",
       "    </details>\n",
       "    </th>\n",
       "        </tr>\n",
       "\n",
       "        <tr>\n",
       "          <td scope=\"row\">FilePath</td>\n",
       "          <td scope=\"row\">\n",
       "    <details>\n",
       "      <summary>/Users/aaronfinke/nmx_workflow...</summary>\n",
       "      /Users/aaronfinke/nmx_workflow/nmx_workflow/data/raw/main/mccode_phi0.h5\n",
       "    </details>\n",
       "    </td>\n",
       "          <td scope=\"row\"></th>\n",
       "        </tr>\n",
       "\n",
       "        <tr>\n",
       "          <td scope=\"row\">MaximumProbability</td>\n",
       "          <td scope=\"row\">10000</td>\n",
       "          <td scope=\"row\"></th>\n",
       "        </tr>\n",
       "\n",
       "        <tr>\n",
       "          <td scope=\"row\">McStasInstrument</td>\n",
       "          <td scope=\"row\"></td>\n",
       "          <td scope=\"row\">\n",
       "    <details>\n",
       "      <summary>read_mcstas_geometry_xml</summary>\n",
       "      ess.nmx.mcstas.xml.read_mcstas_geometry_xml\n",
       "    </details>\n",
       "    </th>\n",
       "        </tr>\n",
       "\n",
       "        <tr>\n",
       "          <td scope=\"row\">NMXData</td>\n",
       "          <td scope=\"row\"></td>\n",
       "          <td scope=\"row\">\n",
       "    <details>\n",
       "      <summary>load_mcstas</summary>\n",
       "      ess.nmx.mcstas.load.load_mcstas\n",
       "    </details>\n",
       "    </th>\n",
       "        </tr>\n",
       "\n",
       "        <tr>\n",
       "          <td scope=\"row\">NMXReducedData</td>\n",
       "          <td scope=\"row\"></td>\n",
       "          <td scope=\"row\">\n",
       "    <details>\n",
       "      <summary>bin_time_of_arrival</summary>\n",
       "      ess.nmx.reduction.bin_time_of_arrival\n",
       "    </details>\n",
       "    </th>\n",
       "        </tr>\n",
       "\n",
       "        <tr>\n",
       "          <td scope=\"row\">ProtonCharge</td>\n",
       "          <td scope=\"row\"></td>\n",
       "          <td scope=\"row\">\n",
       "    <details>\n",
       "      <summary>proton_charge_from_event_data</summary>\n",
       "      ess.nmx.mcstas.load.proton_charge_from_event_data\n",
       "    </details>\n",
       "    </th>\n",
       "        </tr>\n",
       "\n",
       "        <tr>\n",
       "          <td scope=\"row\">RawEventData</td>\n",
       "          <td scope=\"row\"></td>\n",
       "          <td scope=\"row\">\n",
       "    <details>\n",
       "      <summary>load_raw_event_data</summary>\n",
       "      ess.nmx.mcstas.load.load_raw_event_data\n",
       "    </details>\n",
       "    </th>\n",
       "        </tr>\n",
       "\n",
       "        <tr>\n",
       "          <td scope=\"row\">TimeBinSteps</td>\n",
       "          <td scope=\"row\">50</td>\n",
       "          <td scope=\"row\"></th>\n",
       "        </tr>\n",
       "        </tbody>\n",
       "      </table>\n",
       "    </div>"
      ],
      "text/plain": [
       "<sciline.pipeline.Pipeline at 0x13fddf0b0>"
      ]
     },
     "execution_count": 19,
     "metadata": {},
     "output_type": "execute_result"
    }
   ],
   "source": [
    "wfs[0]"
   ]
  },
  {
   "cell_type": "markdown",
   "metadata": {},
   "source": [
    "We want to reduce all three panels, so we map the relevant part of the workflow over a list of the three panels:"
   ]
  },
  {
   "cell_type": "code",
   "execution_count": 17,
   "metadata": {},
   "outputs": [],
   "source": [
    "# DetectorIndex selects what detector panels to include in the run\n",
    "# in this case we select all three panels.\n",
    "for wf in wfs:\n",
    "    wf[NMXReducedData] = (\n",
    "        wf[NMXReducedData]\n",
    "        .map({DetectorIndex: sc.arange('panel', 3, unit=None)})\n",
    "        .reduce(index=\"panel\", func=merge_panels)\n",
    "    )\n"
   ]
  },
  {
   "cell_type": "markdown",
   "metadata": {},
   "source": [
    "## Build Workflow"
   ]
  },
  {
   "cell_type": "code",
   "execution_count": 7,
   "metadata": {},
   "outputs": [
    {
     "data": {
      "image/svg+xml": [
       "<?xml version=\"1.0\" encoding=\"UTF-8\" standalone=\"no\"?>\n",
       "<!DOCTYPE svg PUBLIC \"-//W3C//DTD SVG 1.1//EN\"\n",
       " \"http://www.w3.org/Graphics/SVG/1.1/DTD/svg11.dtd\">\n",
       "<!-- Generated by graphviz version 12.0.0 (0)\n",
       " -->\n",
       "<!-- Pages: 1 -->\n",
       "<svg width=\"723pt\" height=\"1196pt\"\n",
       " viewBox=\"0.00 0.00 723.02 1196.00\" xmlns=\"http://www.w3.org/2000/svg\" xmlns:xlink=\"http://www.w3.org/1999/xlink\">\n",
       "<g id=\"graph0\" class=\"graph\" transform=\"scale(1 1) rotate(0) translate(4 1192)\">\n",
       "<polygon fill=\"white\" stroke=\"none\" points=\"-4,4 -4,-1192 719.02,-1192 719.02,4 -4,4\"/>\n",
       "<!-- ess.nmx.mcstas.load.load_crystal_rotation_CrystalRotation -->\n",
       "<g id=\"node1\" class=\"node\">\n",
       "<title>ess.nmx.mcstas.load.load_crystal_rotation_CrystalRotation</title>\n",
       "<ellipse fill=\"none\" stroke=\"black\" cx=\"625.79\" cy=\"-810\" rx=\"89.23\" ry=\"18\"/>\n",
       "<text text-anchor=\"middle\" x=\"625.79\" y=\"-804.95\" font-family=\"Times,serif\" font-size=\"14.00\">load_crystal_rotation</text>\n",
       "</g>\n",
       "<!-- CrystalRotation -->\n",
       "<g id=\"node4\" class=\"node\">\n",
       "<title>CrystalRotation</title>\n",
       "<polygon fill=\"none\" stroke=\"black\" points=\"648.54,-684 547.04,-684 547.04,-648 648.54,-648 648.54,-684\"/>\n",
       "<text text-anchor=\"middle\" x=\"597.79\" y=\"-660.95\" font-family=\"Times,serif\" font-size=\"14.00\">CrystalRotation</text>\n",
       "</g>\n",
       "<!-- ess.nmx.mcstas.load.load_crystal_rotation_CrystalRotation&#45;&gt;CrystalRotation -->\n",
       "<g id=\"edge3\" class=\"edge\">\n",
       "<title>ess.nmx.mcstas.load.load_crystal_rotation_CrystalRotation&#45;&gt;CrystalRotation</title>\n",
       "<path fill=\"none\" stroke=\"black\" d=\"M622.36,-791.59C617.61,-767.5 608.98,-723.75 603.32,-695.03\"/>\n",
       "<polygon fill=\"black\" stroke=\"black\" points=\"606.83,-694.73 601.46,-685.6 599.96,-696.08 606.83,-694.73\"/>\n",
       "</g>\n",
       "<!-- FilePath -->\n",
       "<g id=\"node2\" class=\"node\">\n",
       "<title>FilePath</title>\n",
       "<polygon fill=\"none\" stroke=\"black\" points=\"529.29,-1044 468.29,-1044 468.29,-1008 529.29,-1008 529.29,-1044\"/>\n",
       "<text text-anchor=\"middle\" x=\"498.79\" y=\"-1020.95\" font-family=\"Times,serif\" font-size=\"14.00\">FilePath</text>\n",
       "</g>\n",
       "<!-- FilePath&#45;&gt;ess.nmx.mcstas.load.load_crystal_rotation_CrystalRotation -->\n",
       "<g id=\"edge1\" class=\"edge\">\n",
       "<title>FilePath&#45;&gt;ess.nmx.mcstas.load.load_crystal_rotation_CrystalRotation</title>\n",
       "<path fill=\"none\" stroke=\"black\" d=\"M529.62,-1021.25C579.82,-1014.45 675.65,-998.28 695.79,-972 728.44,-929.41 683.06,-869.24 651.55,-835.82\"/>\n",
       "<polygon fill=\"black\" stroke=\"black\" points=\"654.42,-833.76 644.94,-829.02 649.39,-838.63 654.42,-833.76\"/>\n",
       "</g>\n",
       "<!-- ess.nmx.mcstas.load.load_event_data_bank_name_DetectorBankPrefix(panel) -->\n",
       "<g id=\"node5\" class=\"node\">\n",
       "<title>ess.nmx.mcstas.load.load_event_data_bank_name_DetectorBankPrefix(panel)</title>\n",
       "<ellipse fill=\"none\" stroke=\"black\" cx=\"279.79\" cy=\"-954\" rx=\"118.91\" ry=\"18\"/>\n",
       "<text text-anchor=\"middle\" x=\"279.79\" y=\"-948.95\" font-family=\"Times,serif\" font-size=\"14.00\">load_event_data_bank_name</text>\n",
       "</g>\n",
       "<!-- FilePath&#45;&gt;ess.nmx.mcstas.load.load_event_data_bank_name_DetectorBankPrefix(panel) -->\n",
       "<g id=\"edge5\" class=\"edge\">\n",
       "<title>FilePath&#45;&gt;ess.nmx.mcstas.load.load_event_data_bank_name_DetectorBankPrefix(panel)</title>\n",
       "<path fill=\"none\" stroke=\"black\" d=\"M467.88,-1015.12C434.76,-1004.53 381.37,-987.47 339.92,-974.22\"/>\n",
       "<polygon fill=\"black\" stroke=\"black\" points=\"341.15,-970.94 330.55,-971.23 339.01,-977.6 341.15,-970.94\"/>\n",
       "</g>\n",
       "<!-- ess.nmx.mcstas.xml.read_mcstas_geometry_xml_McStasInstrument -->\n",
       "<g id=\"node14\" class=\"node\">\n",
       "<title>ess.nmx.mcstas.xml.read_mcstas_geometry_xml_McStasInstrument</title>\n",
       "<ellipse fill=\"none\" stroke=\"black\" cx=\"570.79\" cy=\"-954\" rx=\"116.35\" ry=\"18\"/>\n",
       "<text text-anchor=\"middle\" x=\"570.79\" y=\"-948.95\" font-family=\"Times,serif\" font-size=\"14.00\">read_mcstas_geometry_xml</text>\n",
       "</g>\n",
       "<!-- FilePath&#45;&gt;ess.nmx.mcstas.xml.read_mcstas_geometry_xml_McStasInstrument -->\n",
       "<g id=\"edge12\" class=\"edge\">\n",
       "<title>FilePath&#45;&gt;ess.nmx.mcstas.xml.read_mcstas_geometry_xml_McStasInstrument</title>\n",
       "<path fill=\"none\" stroke=\"black\" d=\"M516.59,-1007.7C525.22,-999.3 535.75,-989.07 545.22,-979.86\"/>\n",
       "<polygon fill=\"black\" stroke=\"black\" points=\"547.38,-982.64 552.11,-973.16 542.5,-977.62 547.38,-982.64\"/>\n",
       "</g>\n",
       "<!-- ess.nmx.mcstas.load.load_raw_event_data_RawEventData(panel) -->\n",
       "<g id=\"node24\" class=\"node\">\n",
       "<title>ess.nmx.mcstas.load.load_raw_event_data_RawEventData(panel)</title>\n",
       "<ellipse fill=\"none\" stroke=\"black\" cx=\"345.79\" cy=\"-810\" rx=\"89.74\" ry=\"18\"/>\n",
       "<text text-anchor=\"middle\" x=\"345.79\" y=\"-804.95\" font-family=\"Times,serif\" font-size=\"14.00\">load_raw_event_data</text>\n",
       "</g>\n",
       "<!-- FilePath&#45;&gt;ess.nmx.mcstas.load.load_raw_event_data_RawEventData(panel) -->\n",
       "<g id=\"edge29\" class=\"edge\">\n",
       "<title>FilePath&#45;&gt;ess.nmx.mcstas.load.load_raw_event_data_RawEventData(panel)</title>\n",
       "<path fill=\"none\" stroke=\"black\" d=\"M478.69,-1007.62C468.1,-997.83 455.37,-984.99 445.79,-972 413.57,-928.32 418.7,-909.29 388.79,-864 382.65,-854.71 375.23,-845.09 368.28,-836.64\"/>\n",
       "<polygon fill=\"black\" stroke=\"black\" points=\"371.11,-834.57 362,-829.17 365.75,-839.07 371.11,-834.57\"/>\n",
       "</g>\n",
       "<!-- McStasInstrument -->\n",
       "<g id=\"node3\" class=\"node\">\n",
       "<title>McStasInstrument</title>\n",
       "<polygon fill=\"none\" stroke=\"black\" points=\"571.04,-900 454.54,-900 454.54,-864 571.04,-864 571.04,-900\"/>\n",
       "<text text-anchor=\"middle\" x=\"512.79\" y=\"-876.95\" font-family=\"Times,serif\" font-size=\"14.00\">McStasInstrument</text>\n",
       "</g>\n",
       "<!-- McStasInstrument&#45;&gt;ess.nmx.mcstas.load.load_crystal_rotation_CrystalRotation -->\n",
       "<g id=\"edge2\" class=\"edge\">\n",
       "<title>McStasInstrument&#45;&gt;ess.nmx.mcstas.load.load_crystal_rotation_CrystalRotation</title>\n",
       "<path fill=\"none\" stroke=\"black\" d=\"M541.02,-863.52C555.74,-854.4 573.92,-843.13 589.66,-833.38\"/>\n",
       "<polygon fill=\"black\" stroke=\"black\" points=\"591.15,-836.58 597.81,-828.34 587.46,-830.63 591.15,-836.58\"/>\n",
       "</g>\n",
       "<!-- ess.nmx.mcstas.load.load_mcstas_NMXData(panel) -->\n",
       "<g id=\"node15\" class=\"node\">\n",
       "<title>ess.nmx.mcstas.load.load_mcstas_NMXData(panel)</title>\n",
       "<ellipse fill=\"none\" stroke=\"black\" cx=\"347.79\" cy=\"-378\" rx=\"56.98\" ry=\"18\"/>\n",
       "<text text-anchor=\"middle\" x=\"347.79\" y=\"-372.95\" font-family=\"Times,serif\" font-size=\"14.00\">load_mcstas</text>\n",
       "</g>\n",
       "<!-- McStasInstrument&#45;&gt;ess.nmx.mcstas.load.load_mcstas_NMXData(panel) -->\n",
       "<g id=\"edge18\" class=\"edge\">\n",
       "<title>McStasInstrument&#45;&gt;ess.nmx.mcstas.load.load_mcstas_NMXData(panel)</title>\n",
       "<path fill=\"none\" stroke=\"black\" d=\"M504.09,-863.56C491.79,-837.25 470.79,-785.53 470.79,-739 470.79,-739 470.79,-739 470.79,-521 470.79,-467.56 420.4,-424.35 384.13,-400.18\"/>\n",
       "<polygon fill=\"black\" stroke=\"black\" points=\"386.36,-397.45 376.06,-394.98 382.57,-403.33 386.36,-397.45\"/>\n",
       "</g>\n",
       "<!-- ess.nmx.reduction.bin_time_of_arrival_NMXReducedData(panel) -->\n",
       "<g id=\"node21\" class=\"node\">\n",
       "<title>ess.nmx.reduction.bin_time_of_arrival_NMXReducedData(panel)</title>\n",
       "<ellipse fill=\"none\" stroke=\"black\" cx=\"495.79\" cy=\"-234\" rx=\"85.13\" ry=\"18\"/>\n",
       "<text text-anchor=\"middle\" x=\"495.79\" y=\"-228.95\" font-family=\"Times,serif\" font-size=\"14.00\">bin_time_of_arrival</text>\n",
       "</g>\n",
       "<!-- McStasInstrument&#45;&gt;ess.nmx.reduction.bin_time_of_arrival_NMXReducedData(panel) -->\n",
       "<g id=\"edge24\" class=\"edge\">\n",
       "<title>McStasInstrument&#45;&gt;ess.nmx.reduction.bin_time_of_arrival_NMXReducedData(panel)</title>\n",
       "<path fill=\"none\" stroke=\"black\" d=\"M511.98,-863.52C510.81,-836.72 508.79,-783.89 508.79,-739 508.79,-739 508.79,-739 508.79,-377 508.79,-337.58 503.76,-292.25 499.96,-263.62\"/>\n",
       "<polygon fill=\"black\" stroke=\"black\" points=\"503.46,-263.37 498.63,-253.94 496.52,-264.32 503.46,-263.37\"/>\n",
       "</g>\n",
       "<!-- McStasInstrument&#45;&gt;ess.nmx.mcstas.load.load_raw_event_data_RawEventData(panel) -->\n",
       "<g id=\"edge32\" class=\"edge\">\n",
       "<title>McStasInstrument&#45;&gt;ess.nmx.mcstas.load.load_raw_event_data_RawEventData(panel)</title>\n",
       "<path fill=\"none\" stroke=\"black\" d=\"M471.08,-863.52C447.6,-853.67 418.18,-841.34 393.75,-831.1\"/>\n",
       "<polygon fill=\"black\" stroke=\"black\" points=\"395.24,-827.93 384.67,-827.29 392.54,-834.39 395.24,-827.93\"/>\n",
       "</g>\n",
       "<!-- CrystalRotation&#45;&gt;ess.nmx.mcstas.load.load_mcstas_NMXData(panel) -->\n",
       "<g id=\"edge16\" class=\"edge\">\n",
       "<title>CrystalRotation&#45;&gt;ess.nmx.mcstas.load.load_mcstas_NMXData(panel)</title>\n",
       "<path fill=\"none\" stroke=\"black\" d=\"M594.05,-647.75C583.96,-605.2 552.26,-494.12 484.79,-432 463.12,-412.05 433.12,-399.31 406.71,-391.34\"/>\n",
       "<polygon fill=\"black\" stroke=\"black\" points=\"407.68,-387.98 397.11,-388.62 405.78,-394.71 407.68,-387.98\"/>\n",
       "</g>\n",
       "<!-- DetectorBankPrefix(panel) -->\n",
       "<g id=\"node7\" class=\"node\">\n",
       "<title>DetectorBankPrefix(panel)</title>\n",
       "<polygon fill=\"none\" stroke=\"black\" points=\"379.92,-900 221.67,-900 217.67,-896 217.67,-864 375.92,-864 379.92,-868 379.92,-900\"/>\n",
       "<polyline fill=\"none\" stroke=\"black\" points=\"375.92,-896 217.67,-896\"/>\n",
       "<polyline fill=\"none\" stroke=\"black\" points=\"375.92,-896 375.92,-864\"/>\n",
       "<polyline fill=\"none\" stroke=\"black\" points=\"375.92,-896 379.92,-900\"/>\n",
       "<text text-anchor=\"middle\" x=\"298.79\" y=\"-876.95\" font-family=\"Times,serif\" font-size=\"14.00\">DetectorBankPrefix(panel)</text>\n",
       "</g>\n",
       "<!-- ess.nmx.mcstas.load.load_event_data_bank_name_DetectorBankPrefix(panel)&#45;&gt;DetectorBankPrefix(panel) -->\n",
       "<g id=\"edge6\" class=\"edge\">\n",
       "<title>ess.nmx.mcstas.load.load_event_data_bank_name_DetectorBankPrefix(panel)&#45;&gt;DetectorBankPrefix(panel)</title>\n",
       "<path fill=\"none\" stroke=\"black\" d=\"M284.49,-935.7C286.51,-928.24 288.93,-919.32 291.2,-910.97\"/>\n",
       "<polygon fill=\"black\" stroke=\"black\" points=\"294.51,-912.13 293.75,-901.57 287.76,-910.3 294.51,-912.13\"/>\n",
       "</g>\n",
       "<!-- DetectorName(panel) -->\n",
       "<g id=\"node6\" class=\"node\">\n",
       "<title>DetectorName(panel)</title>\n",
       "<polygon fill=\"none\" stroke=\"black\" points=\"180.67,-1044 50.92,-1044 46.92,-1040 46.92,-1008 176.67,-1008 180.67,-1012 180.67,-1044\"/>\n",
       "<polyline fill=\"none\" stroke=\"black\" points=\"176.67,-1040 46.92,-1040\"/>\n",
       "<polyline fill=\"none\" stroke=\"black\" points=\"176.67,-1040 176.67,-1008\"/>\n",
       "<polyline fill=\"none\" stroke=\"black\" points=\"176.67,-1040 180.67,-1044\"/>\n",
       "<text text-anchor=\"middle\" x=\"113.79\" y=\"-1020.95\" font-family=\"Times,serif\" font-size=\"14.00\">DetectorName(panel)</text>\n",
       "</g>\n",
       "<!-- DetectorName(panel)&#45;&gt;ess.nmx.mcstas.load.load_event_data_bank_name_DetectorBankPrefix(panel) -->\n",
       "<g id=\"edge4\" class=\"edge\">\n",
       "<title>DetectorName(panel)&#45;&gt;ess.nmx.mcstas.load.load_event_data_bank_name_DetectorBankPrefix(panel)</title>\n",
       "<path fill=\"none\" stroke=\"black\" d=\"M155.25,-1007.52C178.09,-997.89 206.58,-985.87 230.54,-975.77\"/>\n",
       "<polygon fill=\"black\" stroke=\"black\" points=\"231.6,-979.12 239.46,-972.01 228.88,-972.67 231.6,-979.12\"/>\n",
       "</g>\n",
       "<!-- DetectorName(panel)&#45;&gt;ess.nmx.mcstas.load.load_mcstas_NMXData(panel) -->\n",
       "<g id=\"edge17\" class=\"edge\">\n",
       "<title>DetectorName(panel)&#45;&gt;ess.nmx.mcstas.load.load_mcstas_NMXData(panel)</title>\n",
       "<path fill=\"none\" stroke=\"black\" d=\"M109.95,-1007.61C104.4,-980.94 94.79,-928.27 94.79,-883 94.79,-883 94.79,-883 94.79,-521 94.79,-434.52 208.58,-400.17 283.54,-386.92\"/>\n",
       "<polygon fill=\"black\" stroke=\"black\" points=\"283.98,-390.4 293.26,-385.29 282.82,-383.49 283.98,-390.4\"/>\n",
       "</g>\n",
       "<!-- DetectorName(panel)&#45;&gt;ess.nmx.reduction.bin_time_of_arrival_NMXReducedData(panel) -->\n",
       "<g id=\"edge23\" class=\"edge\">\n",
       "<title>DetectorName(panel)&#45;&gt;ess.nmx.reduction.bin_time_of_arrival_NMXReducedData(panel)</title>\n",
       "<path fill=\"none\" stroke=\"black\" d=\"M101.7,-1007.53C84.97,-981.59 56.79,-930.82 56.79,-883 56.79,-883 56.79,-883 56.79,-377 56.79,-303.33 283.45,-262.21 411.04,-244.91\"/>\n",
       "<polygon fill=\"black\" stroke=\"black\" points=\"411.36,-248.39 420.81,-243.6 410.44,-241.45 411.36,-248.39\"/>\n",
       "</g>\n",
       "<!-- DetectorName(panel)&#45;&gt;ess.nmx.mcstas.load.load_raw_event_data_RawEventData(panel) -->\n",
       "<g id=\"edge31\" class=\"edge\">\n",
       "<title>DetectorName(panel)&#45;&gt;ess.nmx.mcstas.load.load_raw_event_data_RawEventData(panel)</title>\n",
       "<path fill=\"none\" stroke=\"black\" d=\"M118.97,-1007.56C129.83,-974.18 158.24,-901.26 208.79,-864 230.07,-848.32 256.57,-836.65 280.57,-828.31\"/>\n",
       "<polygon fill=\"black\" stroke=\"black\" points=\"281.58,-831.67 289.97,-825.19 279.37,-825.02 281.58,-831.67\"/>\n",
       "</g>\n",
       "<!-- DetectorBankPrefix(panel)&#45;&gt;ess.nmx.mcstas.load.load_raw_event_data_RawEventData(panel) -->\n",
       "<g id=\"edge30\" class=\"edge\">\n",
       "<title>DetectorBankPrefix(panel)&#45;&gt;ess.nmx.mcstas.load.load_raw_event_data_RawEventData(panel)</title>\n",
       "<path fill=\"none\" stroke=\"black\" d=\"M310.41,-863.7C315.7,-855.81 322.09,-846.3 327.97,-837.55\"/>\n",
       "<polygon fill=\"black\" stroke=\"black\" points=\"330.8,-839.61 333.46,-829.36 324.98,-835.71 330.8,-839.61\"/>\n",
       "</g>\n",
       "<!-- DetectorIndex(panel) -->\n",
       "<g id=\"node8\" class=\"node\">\n",
       "<title>DetectorIndex(panel)</title>\n",
       "<polygon fill=\"none\" stroke=\"black\" points=\"179.54,-1188 52.04,-1188 48.04,-1184 48.04,-1152 175.54,-1152 179.54,-1156 179.54,-1188\"/>\n",
       "<polyline fill=\"none\" stroke=\"black\" points=\"175.54,-1184 48.04,-1184\"/>\n",
       "<polyline fill=\"none\" stroke=\"black\" points=\"175.54,-1184 175.54,-1152\"/>\n",
       "<polyline fill=\"none\" stroke=\"black\" points=\"175.54,-1184 179.54,-1188\"/>\n",
       "<text text-anchor=\"middle\" x=\"113.79\" y=\"-1164.95\" font-family=\"Times,serif\" font-size=\"14.00\">DetectorIndex(panel)</text>\n",
       "</g>\n",
       "<!-- ess.nmx.mcstas.load.detector_name_from_index_DetectorName(panel) -->\n",
       "<g id=\"node9\" class=\"node\">\n",
       "<title>ess.nmx.mcstas.load.detector_name_from_index_DetectorName(panel)</title>\n",
       "<ellipse fill=\"none\" stroke=\"black\" cx=\"113.79\" cy=\"-1098\" rx=\"113.79\" ry=\"18\"/>\n",
       "<text text-anchor=\"middle\" x=\"113.79\" y=\"-1092.95\" font-family=\"Times,serif\" font-size=\"14.00\">detector_name_from_index</text>\n",
       "</g>\n",
       "<!-- DetectorIndex(panel)&#45;&gt;ess.nmx.mcstas.load.detector_name_from_index_DetectorName(panel) -->\n",
       "<g id=\"edge7\" class=\"edge\">\n",
       "<title>DetectorIndex(panel)&#45;&gt;ess.nmx.mcstas.load.detector_name_from_index_DetectorName(panel)</title>\n",
       "<path fill=\"none\" stroke=\"black\" d=\"M113.79,-1151.7C113.79,-1144.41 113.79,-1135.73 113.79,-1127.54\"/>\n",
       "<polygon fill=\"black\" stroke=\"black\" points=\"117.29,-1127.62 113.79,-1117.62 110.29,-1127.62 117.29,-1127.62\"/>\n",
       "</g>\n",
       "<!-- ess.nmx.mcstas.load.detector_name_from_index_DetectorName(panel)&#45;&gt;DetectorName(panel) -->\n",
       "<g id=\"edge8\" class=\"edge\">\n",
       "<title>ess.nmx.mcstas.load.detector_name_from_index_DetectorName(panel)&#45;&gt;DetectorName(panel)</title>\n",
       "<path fill=\"none\" stroke=\"black\" d=\"M113.79,-1079.7C113.79,-1072.41 113.79,-1063.73 113.79,-1055.54\"/>\n",
       "<polygon fill=\"black\" stroke=\"black\" points=\"117.29,-1055.62 113.79,-1045.62 110.29,-1055.62 117.29,-1055.62\"/>\n",
       "</g>\n",
       "<!-- ess.nmx.mcstas.load.event_weights_from_probability_EventData(panel) -->\n",
       "<g id=\"node10\" class=\"node\">\n",
       "<title>ess.nmx.mcstas.load.event_weights_from_probability_EventData(panel)</title>\n",
       "<ellipse fill=\"none\" stroke=\"black\" cx=\"282.79\" cy=\"-666\" rx=\"132.22\" ry=\"18\"/>\n",
       "<text text-anchor=\"middle\" x=\"282.79\" y=\"-660.95\" font-family=\"Times,serif\" font-size=\"14.00\">event_weights_from_probability</text>\n",
       "</g>\n",
       "<!-- EventData(panel) -->\n",
       "<g id=\"node13\" class=\"node\">\n",
       "<title>EventData(panel)</title>\n",
       "<polygon fill=\"none\" stroke=\"black\" points=\"338.42,-612 231.17,-612 227.17,-608 227.17,-576 334.42,-576 338.42,-580 338.42,-612\"/>\n",
       "<polyline fill=\"none\" stroke=\"black\" points=\"334.42,-608 227.17,-608\"/>\n",
       "<polyline fill=\"none\" stroke=\"black\" points=\"334.42,-608 334.42,-576\"/>\n",
       "<polyline fill=\"none\" stroke=\"black\" points=\"334.42,-608 338.42,-612\"/>\n",
       "<text text-anchor=\"middle\" x=\"282.79\" y=\"-588.95\" font-family=\"Times,serif\" font-size=\"14.00\">EventData(panel)</text>\n",
       "</g>\n",
       "<!-- ess.nmx.mcstas.load.event_weights_from_probability_EventData(panel)&#45;&gt;EventData(panel) -->\n",
       "<g id=\"edge11\" class=\"edge\">\n",
       "<title>ess.nmx.mcstas.load.event_weights_from_probability_EventData(panel)&#45;&gt;EventData(panel)</title>\n",
       "<path fill=\"none\" stroke=\"black\" d=\"M282.79,-647.7C282.79,-640.41 282.79,-631.73 282.79,-623.54\"/>\n",
       "<polygon fill=\"black\" stroke=\"black\" points=\"286.29,-623.62 282.79,-613.62 279.29,-623.62 286.29,-623.62\"/>\n",
       "</g>\n",
       "<!-- RawEventData(panel) -->\n",
       "<g id=\"node11\" class=\"node\">\n",
       "<title>RawEventData(panel)</title>\n",
       "<polygon fill=\"none\" stroke=\"black\" points=\"413.79,-756 281.79,-756 277.79,-752 277.79,-720 409.79,-720 413.79,-724 413.79,-756\"/>\n",
       "<polyline fill=\"none\" stroke=\"black\" points=\"409.79,-752 277.79,-752\"/>\n",
       "<polyline fill=\"none\" stroke=\"black\" points=\"409.79,-752 409.79,-720\"/>\n",
       "<polyline fill=\"none\" stroke=\"black\" points=\"409.79,-752 413.79,-756\"/>\n",
       "<text text-anchor=\"middle\" x=\"345.79\" y=\"-732.95\" font-family=\"Times,serif\" font-size=\"14.00\">RawEventData(panel)</text>\n",
       "</g>\n",
       "<!-- RawEventData(panel)&#45;&gt;ess.nmx.mcstas.load.event_weights_from_probability_EventData(panel) -->\n",
       "<g id=\"edge9\" class=\"edge\">\n",
       "<title>RawEventData(panel)&#45;&gt;ess.nmx.mcstas.load.event_weights_from_probability_EventData(panel)</title>\n",
       "<path fill=\"none\" stroke=\"black\" d=\"M330.22,-719.7C322.82,-711.47 313.83,-701.48 305.67,-692.42\"/>\n",
       "<polygon fill=\"black\" stroke=\"black\" points=\"308.49,-690.32 299.2,-685.23 303.29,-695 308.49,-690.32\"/>\n",
       "</g>\n",
       "<!-- MaximumProbability -->\n",
       "<g id=\"node12\" class=\"node\">\n",
       "<title>MaximumProbability</title>\n",
       "<polygon fill=\"none\" stroke=\"black\" points=\"260.04,-756 125.54,-756 125.54,-720 260.04,-720 260.04,-756\"/>\n",
       "<text text-anchor=\"middle\" x=\"192.79\" y=\"-732.95\" font-family=\"Times,serif\" font-size=\"14.00\">MaximumProbability</text>\n",
       "</g>\n",
       "<!-- MaximumProbability&#45;&gt;ess.nmx.mcstas.load.event_weights_from_probability_EventData(panel) -->\n",
       "<g id=\"edge10\" class=\"edge\">\n",
       "<title>MaximumProbability&#45;&gt;ess.nmx.mcstas.load.event_weights_from_probability_EventData(panel)</title>\n",
       "<path fill=\"none\" stroke=\"black\" d=\"M215.04,-719.7C226.16,-711.05 239.79,-700.45 251.9,-691.03\"/>\n",
       "<polygon fill=\"black\" stroke=\"black\" points=\"253.86,-693.94 259.61,-685.03 249.56,-688.41 253.86,-693.94\"/>\n",
       "</g>\n",
       "<!-- EventData(panel)&#45;&gt;ess.nmx.mcstas.load.load_mcstas_NMXData(panel) -->\n",
       "<g id=\"edge14\" class=\"edge\">\n",
       "<title>EventData(panel)&#45;&gt;ess.nmx.mcstas.load.load_mcstas_NMXData(panel)</title>\n",
       "<path fill=\"none\" stroke=\"black\" d=\"M226.93,-580.58C205.24,-572.73 182.58,-560.12 169.79,-540 161.21,-526.5 162.78,-518.38 169.79,-504 195.84,-450.53 257.22,-415.54 300.59,-396.53\"/>\n",
       "<polygon fill=\"black\" stroke=\"black\" points=\"301.69,-399.86 309.53,-392.74 298.96,-393.42 301.69,-399.86\"/>\n",
       "</g>\n",
       "<!-- ess.nmx.mcstas.load.proton_charge_from_event_data_ProtonCharge(panel) -->\n",
       "<g id=\"node23\" class=\"node\">\n",
       "<title>ess.nmx.mcstas.load.proton_charge_from_event_data_ProtonCharge(panel)</title>\n",
       "<ellipse fill=\"none\" stroke=\"black\" cx=\"310.79\" cy=\"-522\" rx=\"131.71\" ry=\"18\"/>\n",
       "<text text-anchor=\"middle\" x=\"310.79\" y=\"-516.95\" font-family=\"Times,serif\" font-size=\"14.00\">proton_charge_from_event_data</text>\n",
       "</g>\n",
       "<!-- EventData(panel)&#45;&gt;ess.nmx.mcstas.load.proton_charge_from_event_data_ProtonCharge(panel) -->\n",
       "<g id=\"edge27\" class=\"edge\">\n",
       "<title>EventData(panel)&#45;&gt;ess.nmx.mcstas.load.proton_charge_from_event_data_ProtonCharge(panel)</title>\n",
       "<path fill=\"none\" stroke=\"black\" d=\"M289.71,-575.7C292.73,-568.15 296.34,-559.12 299.72,-550.68\"/>\n",
       "<polygon fill=\"black\" stroke=\"black\" points=\"302.92,-552.09 303.39,-541.51 296.42,-549.49 302.92,-552.09\"/>\n",
       "</g>\n",
       "<!-- ess.nmx.mcstas.xml.read_mcstas_geometry_xml_McStasInstrument&#45;&gt;McStasInstrument -->\n",
       "<g id=\"edge13\" class=\"edge\">\n",
       "<title>ess.nmx.mcstas.xml.read_mcstas_geometry_xml_McStasInstrument&#45;&gt;McStasInstrument</title>\n",
       "<path fill=\"none\" stroke=\"black\" d=\"M556.45,-935.7C549.71,-927.56 541.53,-917.69 534.09,-908.7\"/>\n",
       "<polygon fill=\"black\" stroke=\"black\" points=\"537.01,-906.74 527.93,-901.27 531.61,-911.2 537.01,-906.74\"/>\n",
       "</g>\n",
       "<!-- NMXData(panel) -->\n",
       "<g id=\"node17\" class=\"node\">\n",
       "<title>NMXData(panel)</title>\n",
       "<polygon fill=\"none\" stroke=\"black\" points=\"452.79,-324 344.79,-324 340.79,-320 340.79,-288 448.79,-288 452.79,-292 452.79,-324\"/>\n",
       "<polyline fill=\"none\" stroke=\"black\" points=\"448.79,-320 340.79,-320\"/>\n",
       "<polyline fill=\"none\" stroke=\"black\" points=\"448.79,-320 448.79,-288\"/>\n",
       "<polyline fill=\"none\" stroke=\"black\" points=\"448.79,-320 452.79,-324\"/>\n",
       "<text text-anchor=\"middle\" x=\"396.79\" y=\"-300.95\" font-family=\"Times,serif\" font-size=\"14.00\">NMXData(panel)</text>\n",
       "</g>\n",
       "<!-- ess.nmx.mcstas.load.load_mcstas_NMXData(panel)&#45;&gt;NMXData(panel) -->\n",
       "<g id=\"edge19\" class=\"edge\">\n",
       "<title>ess.nmx.mcstas.load.load_mcstas_NMXData(panel)&#45;&gt;NMXData(panel)</title>\n",
       "<path fill=\"none\" stroke=\"black\" d=\"M359.65,-360.05C365.23,-352.09 372,-342.41 378.24,-333.51\"/>\n",
       "<polygon fill=\"black\" stroke=\"black\" points=\"380.96,-335.71 383.83,-325.52 375.23,-331.7 380.96,-335.71\"/>\n",
       "</g>\n",
       "<!-- ProtonCharge(panel) -->\n",
       "<g id=\"node16\" class=\"node\">\n",
       "<title>ProtonCharge(panel)</title>\n",
       "<polygon fill=\"none\" stroke=\"black\" points=\"400.42,-468 275.17,-468 271.17,-464 271.17,-432 396.42,-432 400.42,-436 400.42,-468\"/>\n",
       "<polyline fill=\"none\" stroke=\"black\" points=\"396.42,-464 271.17,-464\"/>\n",
       "<polyline fill=\"none\" stroke=\"black\" points=\"396.42,-464 396.42,-432\"/>\n",
       "<polyline fill=\"none\" stroke=\"black\" points=\"396.42,-464 400.42,-468\"/>\n",
       "<text text-anchor=\"middle\" x=\"335.79\" y=\"-444.95\" font-family=\"Times,serif\" font-size=\"14.00\">ProtonCharge(panel)</text>\n",
       "</g>\n",
       "<!-- ProtonCharge(panel)&#45;&gt;ess.nmx.mcstas.load.load_mcstas_NMXData(panel) -->\n",
       "<g id=\"edge15\" class=\"edge\">\n",
       "<title>ProtonCharge(panel)&#45;&gt;ess.nmx.mcstas.load.load_mcstas_NMXData(panel)</title>\n",
       "<path fill=\"none\" stroke=\"black\" d=\"M338.76,-431.7C340.02,-424.32 341.53,-415.52 342.95,-407.25\"/>\n",
       "<polygon fill=\"black\" stroke=\"black\" points=\"346.36,-408.04 344.6,-397.6 339.46,-406.86 346.36,-408.04\"/>\n",
       "</g>\n",
       "<!-- NMXData(panel)&#45;&gt;ess.nmx.reduction.bin_time_of_arrival_NMXReducedData(panel) -->\n",
       "<g id=\"edge22\" class=\"edge\">\n",
       "<title>NMXData(panel)&#45;&gt;ess.nmx.reduction.bin_time_of_arrival_NMXReducedData(panel)</title>\n",
       "<path fill=\"none\" stroke=\"black\" d=\"M421.52,-287.52C434.18,-278.57 449.74,-267.56 463.35,-257.94\"/>\n",
       "<polygon fill=\"black\" stroke=\"black\" points=\"465.02,-261.04 471.17,-252.41 460.98,-255.33 465.02,-261.04\"/>\n",
       "</g>\n",
       "<!-- ess.nmx.reduction.merge_panels_NMXReducedData -->\n",
       "<g id=\"node18\" class=\"node\">\n",
       "<title>ess.nmx.reduction.merge_panels_NMXReducedData</title>\n",
       "<ellipse fill=\"none\" stroke=\"black\" cx=\"495.79\" cy=\"-90\" rx=\"62.61\" ry=\"18\"/>\n",
       "<text text-anchor=\"middle\" x=\"495.79\" y=\"-84.95\" font-family=\"Times,serif\" font-size=\"14.00\">merge_panels</text>\n",
       "</g>\n",
       "<!-- NMXReducedData -->\n",
       "<g id=\"node20\" class=\"node\">\n",
       "<title>NMXReducedData</title>\n",
       "<polygon fill=\"none\" stroke=\"black\" points=\"556.29,-36 435.29,-36 435.29,0 556.29,0 556.29,-36\"/>\n",
       "<text text-anchor=\"middle\" x=\"495.79\" y=\"-12.95\" font-family=\"Times,serif\" font-size=\"14.00\">NMXReducedData</text>\n",
       "</g>\n",
       "<!-- ess.nmx.reduction.merge_panels_NMXReducedData&#45;&gt;NMXReducedData -->\n",
       "<g id=\"edge21\" class=\"edge\">\n",
       "<title>ess.nmx.reduction.merge_panels_NMXReducedData&#45;&gt;NMXReducedData</title>\n",
       "<path fill=\"none\" stroke=\"black\" d=\"M495.79,-71.7C495.79,-64.41 495.79,-55.73 495.79,-47.54\"/>\n",
       "<polygon fill=\"black\" stroke=\"black\" points=\"499.29,-47.62 495.79,-37.62 492.29,-47.62 499.29,-47.62\"/>\n",
       "</g>\n",
       "<!-- NMXReducedData(panel) -->\n",
       "<g id=\"node19\" class=\"node\">\n",
       "<title>NMXReducedData(panel)</title>\n",
       "<polygon fill=\"none\" stroke=\"black\" points=\"575.42,-180 420.17,-180 416.17,-176 416.17,-144 571.42,-144 575.42,-148 575.42,-180\"/>\n",
       "<polyline fill=\"none\" stroke=\"black\" points=\"571.42,-176 416.17,-176\"/>\n",
       "<polyline fill=\"none\" stroke=\"black\" points=\"571.42,-176 571.42,-144\"/>\n",
       "<polyline fill=\"none\" stroke=\"black\" points=\"571.42,-176 575.42,-180\"/>\n",
       "<text text-anchor=\"middle\" x=\"495.79\" y=\"-156.95\" font-family=\"Times,serif\" font-size=\"14.00\">NMXReducedData(panel)</text>\n",
       "</g>\n",
       "<!-- NMXReducedData(panel)&#45;&gt;ess.nmx.reduction.merge_panels_NMXReducedData -->\n",
       "<g id=\"edge20\" class=\"edge\">\n",
       "<title>NMXReducedData(panel)&#45;&gt;ess.nmx.reduction.merge_panels_NMXReducedData</title>\n",
       "<path fill=\"none\" stroke=\"black\" d=\"M495.79,-143.7C495.79,-136.41 495.79,-127.73 495.79,-119.54\"/>\n",
       "<polygon fill=\"black\" stroke=\"black\" points=\"499.29,-119.62 495.79,-109.62 492.29,-119.62 499.29,-119.62\"/>\n",
       "</g>\n",
       "<!-- ess.nmx.reduction.bin_time_of_arrival_NMXReducedData(panel)&#45;&gt;NMXReducedData(panel) -->\n",
       "<g id=\"edge26\" class=\"edge\">\n",
       "<title>ess.nmx.reduction.bin_time_of_arrival_NMXReducedData(panel)&#45;&gt;NMXReducedData(panel)</title>\n",
       "<path fill=\"none\" stroke=\"black\" d=\"M495.79,-215.7C495.79,-208.41 495.79,-199.73 495.79,-191.54\"/>\n",
       "<polygon fill=\"black\" stroke=\"black\" points=\"499.29,-191.62 495.79,-181.62 492.29,-191.62 499.29,-191.62\"/>\n",
       "</g>\n",
       "<!-- TimeBinSteps -->\n",
       "<g id=\"node22\" class=\"node\">\n",
       "<title>TimeBinSteps</title>\n",
       "<polygon fill=\"none\" stroke=\"black\" points=\"630.79,-324 536.79,-324 536.79,-288 630.79,-288 630.79,-324\"/>\n",
       "<text text-anchor=\"middle\" x=\"583.79\" y=\"-300.95\" font-family=\"Times,serif\" font-size=\"14.00\">TimeBinSteps</text>\n",
       "</g>\n",
       "<!-- TimeBinSteps&#45;&gt;ess.nmx.reduction.bin_time_of_arrival_NMXReducedData(panel) -->\n",
       "<g id=\"edge25\" class=\"edge\">\n",
       "<title>TimeBinSteps&#45;&gt;ess.nmx.reduction.bin_time_of_arrival_NMXReducedData(panel)</title>\n",
       "<path fill=\"none\" stroke=\"black\" d=\"M562.04,-287.7C551.09,-278.99 537.64,-268.29 525.73,-258.82\"/>\n",
       "<polygon fill=\"black\" stroke=\"black\" points=\"528.18,-256.29 518.18,-252.81 523.82,-261.77 528.18,-256.29\"/>\n",
       "</g>\n",
       "<!-- ess.nmx.mcstas.load.proton_charge_from_event_data_ProtonCharge(panel)&#45;&gt;ProtonCharge(panel) -->\n",
       "<g id=\"edge28\" class=\"edge\">\n",
       "<title>ess.nmx.mcstas.load.proton_charge_from_event_data_ProtonCharge(panel)&#45;&gt;ProtonCharge(panel)</title>\n",
       "<path fill=\"none\" stroke=\"black\" d=\"M316.97,-503.7C319.67,-496.15 322.89,-487.12 325.91,-478.68\"/>\n",
       "<polygon fill=\"black\" stroke=\"black\" points=\"329.11,-480.12 329.17,-469.53 322.51,-477.77 329.11,-480.12\"/>\n",
       "</g>\n",
       "<!-- ess.nmx.mcstas.load.load_raw_event_data_RawEventData(panel)&#45;&gt;RawEventData(panel) -->\n",
       "<g id=\"edge33\" class=\"edge\">\n",
       "<title>ess.nmx.mcstas.load.load_raw_event_data_RawEventData(panel)&#45;&gt;RawEventData(panel)</title>\n",
       "<path fill=\"none\" stroke=\"black\" d=\"M345.79,-791.7C345.79,-784.41 345.79,-775.73 345.79,-767.54\"/>\n",
       "<polygon fill=\"black\" stroke=\"black\" points=\"349.29,-767.62 345.79,-757.62 342.29,-767.62 349.29,-767.62\"/>\n",
       "</g>\n",
       "</g>\n",
       "</svg>\n"
      ],
      "text/plain": [
       "<graphviz.graphs.Digraph at 0x16a0a1f10>"
      ]
     },
     "execution_count": 7,
     "metadata": {},
     "output_type": "execute_result"
    }
   ],
   "source": [
    "wf.visualize(NMXReducedData, graph_attr={\"rankdir\": \"TD\"}, compact=True)"
   ]
  },
  {
   "cell_type": "markdown",
   "metadata": {},
   "source": [
    "## Compute Desired Types"
   ]
  },
  {
   "cell_type": "code",
   "execution_count": 11,
   "metadata": {},
   "outputs": [],
   "source": [
    "from cyclebane.graph import NodeName, IndexValues"
   ]
  },
  {
   "cell_type": "code",
   "execution_count": 15,
   "metadata": {},
   "outputs": [],
   "source": [
    "import tracemalloc"
   ]
  },
  {
   "cell_type": "code",
   "execution_count": 21,
   "metadata": {},
   "outputs": [
    {
     "ename": "",
     "evalue": "",
     "output_type": "error",
     "traceback": [
      "\u001b[1;31mThe Kernel crashed while executing code in the current cell or a previous cell. \n",
      "\u001b[1;31mPlease review the code in the cell(s) to identify a possible cause of the failure. \n",
      "\u001b[1;31mClick <a href='https://aka.ms/vscodeJupyterKernelCrash'>here</a> for more info. \n",
      "\u001b[1;31mView Jupyter <a href='command:jupyter.viewOutput'>log</a> for further details."
     ]
    }
   ],
   "source": [
    "# Event data grouped by pixel id for each of the selected detectors\n",
    "targets = [NodeName(NMXData, IndexValues((\"panel\",), (i,))) for i in range(3)]\n",
    "dgs =[ merge_panels(*wf.compute(targets).values()) for wf in wfs ]\n"
   ]
  },
  {
   "cell_type": "code",
   "execution_count": 10,
   "metadata": {},
   "outputs": [
    {
     "data": {
      "text/html": [
       "<div><style id=\"scipp-style-sheet\">.sc-root{--sc-background-color0:var(--jp-layout-color0,#fff);--sc-background-color1:var(--jp-layout-color1,#fcfcfc);--sc-background-color2:var(--jp-layout-color2,#efefef);--sc-inverse-background-color0:var(--jp-inverse-layout-color4,#111);--sc-font-color0:var(--jp-content-font-color0,#000);--sc-font-color1:var(--jp-content-font-color1,#555);--sc-font-color2:var(--jp-content-font-color2,#888);--sc-font-color3:var(--jp-content-font-color3,#ccc);}body.vscode-dark .sc-root{--sc-font-color0:rgba(255,255,255,1);--sc-font-color1:rgba(255,255,255,0.70);--sc-font-color2:rgba(255,255,255,0.54);--sc-font-color3:rgba(255,255,255,0.38);--sc-border-color:#1F1F1F;--sc-disabled-color:#515151;--sc-background-color0:#111111;--sc-background-color1:#111111;--sc-background-color2:#313131;}.sc-wrap{font-size:14px;min-width:300px;max-width:800px;}.sc-var-attrs .sc-wrap{padding-left:3em;}.sc-header{padding-top:6px;padding-bottom:6px;margin-bottom:4px;border-bottom:solid 1px #ddd;}.sc-header > div,.sc-header > ul{display:inline;margin-top:0;margin-bottom:0;}.sc-obj-type,.sc-array-name{margin-left:2px;margin-right:10px;}.sc-obj-type{color:var(--sc-font-color1);}.sc-underlying-size{color:var(--sc-font-color2);}.sc-sections,.reveal .sc-sections{padding-left:0 !important;display:grid;grid-template-columns:150px auto auto auto 1fr 20px 20px;}.sc-section-item{display:contents;}.sc-section-item input{display:none;}.sc-section-item input:enabled + label{cursor:pointer;color:var(--sc-font-color1);}.sc-section-item input:enabled + label:hover{color:var(--sc-font-color0);}.sc-section-summary{grid-column:1;font-weight:500;}.sc-section-summary > span{display:inline-block;padding-left:0.5em;}.sc-section-summary-in:disabled + label{color:var(--sc-font-color1);}.sc-section-summary-in + label:before{display:inline-block;content:'►';font-size:11px;width:15px;text-align:center;}.sc-section-summary-in:disabled + label:before{color:var(--sc-font-color3);}.sc-section-summary-in:checked + label:before{content:'▼';}.sc-section-summary-in:checked + label > span{display:none;}.sc-section-summary,.sc-section-inline-details{padding-top:4px;padding-bottom:4px;}.sc-section-inline-details{grid-column:2 / 6;}.sc-section-details{display:none;grid-column:1 / -1;margin-bottom:5px;}.sc-section-summary-in:checked ~ .sc-section-details{display:contents;}.sc-array-wrap{grid-column:1 / -1;display:grid;grid-template-columns:20px auto;}.sc-array-wrap > label{grid-column:1;vertical-align:top;}.sc-preview{color:var(--sc-font-color2);}.sc-array-preview,.sc-array-data{padding:0 5px !important;grid-column:2;}.sc-array-data,.sc-array-in:checked ~ .sc-array-preview{display:none;}.sc-array-in:checked ~ .sc-array-data,.sc-array-preview{display:inline-block;}.sc-dim-list{display:inline-block !important;list-style:none;padding:0 !important;margin:0;}.sc-dim-list li{display:inline-block;padding:0;margin:0!important;}.sc-dim-list:before{content:'(';}.sc-dim-list:after{content:')';}.sc-dim-list li:not(:last-child):after{content:',';padding-right:5px;}.sc-dim-list li span,.sc-standalone-var-name > span span,.sc-var-name > span span{padding:0 !important;}.sc-aligned{font-weight:bold;}.sc-var-list,.sc-var-item,.reveal .sc-var-list,.reveal .sc-var-item{display:contents;}.sc-var-item > div,.sc-var-item label,.sc-var-item > .sc-var-name span{background-color:var(--sc-background-color1);margin-bottom:0;}.sc-var-item > .sc-var-name:hover span{padding-right:5px;}.sc-var-list > li:nth-child(odd) > div,.sc-var-list > li:nth-child(odd) > label,.sc-var-list > li:nth-child(odd) > .sc-var-name span{background-color:var(--sc-background-color2);}.sc-var-name{grid-column:1;}.sc-var-dims{grid-column:2;}.sc-var-dtype{grid-column:3;text-align:right;color:var(--sc-font-color2);}.sc-var-unit{grid-column:4;text-align:left;color:var(--sc-font-color1);max-width:50pt;text-overflow:ellipsis;}.sc-value-preview{grid-column:5;}.sc-var-preview-variances{text-align:right;}.sc-sections .sc-section-item .sc-section-summary,.sc-sections .sc-section-item .sc-section-inline-details,.sc-section-item .sc-var-list .sc-var-item > div,.sc-section-item .sc-var-list .sc-var-item > label,.sc-section-details .sc-var-list .sc-var-item > div,.sc-section-details .sc-var-list .sc-var-item > label{margin-top:0;margin-bottom:0;}.sc-var-name,.sc-var-dims,.sc-var-dtype,.sc-var-unit,.sc-preview,.sc-attrs dt{white-space:nowrap;overflow:hidden;text-overflow:ellipsis;padding-right:10px;}.sc-var-name:hover,.sc-var-dims:hover,.sc-var-dtype:hover,.sc-var-unit:hover,.sc-attrs dt:hover{overflow:visible;width:auto;z-index:1;}.sc-var-attrs{display:block;}.sc-var-data,.reveal .sc-var-data{display:none;}.sc-var-attrs,.sc-var-data{background-color:var(--sc-background-color0) !important;padding-bottom:5px !important;}.sc-var-attrs-in:checked ~ .sc-var-attrs{display:none;}.sc-var-data-in:checked ~ .sc-var-data{display:block;}.sc-var-data > table{float:right;}.sc-var-name span,.sc-var-data{padding-left:25px !important;}.sc-var-attrs,.sc-var-data{grid-column:1 / -1;}dl.sc-attrs{padding:0;margin:0;display:grid;grid-template-columns:125px auto;}.sc-attrs dt,dd{padding:0;margin:0;float:left;padding-right:10px;width:auto;}.sc-attrs dt{font-weight:normal;grid-column:1;}.sc-attrs dt:hover span{display:inline-block;padding-right:10px;}.sc-attrs dd{grid-column:2;white-space:pre-wrap;word-break:break-all;}.sc-icon-database,.sc-icon-file-text2{display:inline-block;vertical-align:middle;width:1em;height:1.5em !important;stroke-width:0;stroke:currentColor;fill:currentColor;}label.sc-hide-icon svg{opacity:0;}.sc-standalone-var-name{grid-column:1/3;}.sc-standalone-var-name span{padding-left:25px;padding-right:10px;}.sc-title{font-weight:bold;font-size:1.5em;}.sc-subtitle{font-weight:normal;font-style:italic;text-align:left;font-size:1.2em;padding:1px;}.sc-label{fill:var(--sc-font-color0,#444444);text-anchor:middle;}.sc-name{fill:var(--sc-font-color0,#111111);}.sc-inset-line{stroke:var(--sc-font-color1);stroke-width:0.05;stroke-dasharray:0.2,0.2;}.sc-log-wrap{height:25ex;resize:vertical;overflow-y:scroll;display:flex;flex-direction:column-reverse;border:1px solid;border-color:var(--jp-border-color2);background-color:var(--sc-background-color1);}div.sc-log{line-height:2.5ex;}table.sc-log{table-layout:auto;border-collapse:collapse;}tr.sc-log:nth-child(even){background-color:var(--sc-background-color0);}tr.sc-log > td{vertical-align:top;padding-bottom:0.5ex;}.sc-log-time-stamp{min-width:22ch;font-family:var(--jp-code-font-family);color:var(--sc-font-color2);}.sc-log-level{min-width:10ch;}tr.sc-log-debug td.sc-log-level{color:var(--jp-accent-color1);}tr.sc-log-info td.sc-log-level{color:var(--jp-info-color1);}tr.sc-log-warning td.sc-log-level{color:var(--jp-warn-color1);}tr.sc-log-error td.sc-log-level{font-weight:bold;color:var(--jp-error-color2);}tr.sc-log-critical td.sc-log-level{font-weight:bold;color:var(--sc-background-color0);background-color:var(--jp-error-color1);}.sc-log-message{white-space:pre-wrap;width:100%;}.sc-log-html-payload{white-space:normal;}.sc-log-name{padding-right:0.5em;text-align:right;white-space:pre-wrap;color:var(--sc-font-color3);}</style><style id=\"datagroup-style-sheet\">.dg-root{white-space:normal;font-size:14px;min-width:300px;max-width:1200px;}.dg-root *{box-sizing:border-box;}.sc-header > label,.sc-header > label > div,.sc-header > label > div > ul{display:inline;margin-bottom:0;}.dg-header-in{display:none;}.dg-header-in + .sc-header > label:before{display:inline-block;font-size:11px;text-align:left;content:'►';}.dg-header-in:checked + .sc-header > label:before{content:'▼';}.dg-header-in ~ .dg-detail-box{display:none;}.dg-header-in:checked ~ .dg-detail-box{display:grid;}.dg-detail-box{margin-top:5px;margin-bottom:5px;column-gap:0 !important;display:grid;grid-template-columns:max-content max-content max-content max-content max-content max-content max-content;grid-template-areas:\"name        parent      object-type shape       dtype       unit        preview\";}.dg-detail-box *{margin-top:0;margin-bottom:0;}.dg-detail-list{display:contents;}.dg-detail-item{display:contents;list-style-type:none;}.dg-detail-item-in{display:none;}.dg-detail-item-in + .dg-detail-name > label:before{display:inline-block;font-size:14px;text-align:left;content:'►';}.dg-detail-item-in:checked + .dg-detail-name > label:before{content:'▼';}.dg-detail-item div,.dg-detail-item span,.dg-detail-item label{word-break:break-all;min-width:1em;max-width:20em;width:100%;}.dg-detail-item > div{display:contents;}.dg-detail-item > div > div > div{width:100%;}.dg-detail-item:hover > div > div{background-color:var(--sc-background-color2) !important;}.dg-detail-item > div span{padding-left:10px;padding-right:10px;}.dg-detail-item > div > div:first-of-type{grid-column-start:1;}.dg-detail-item-subsection{display:none;}.dg-detail-item-in{margin:0;}.dg-detail-item-in:checked ~ .dg-detail-item-subsection{display:contents;}.dg-detail-item .dg-detail-name{grid-area:\"name\";min-width:5em;}.dg-detail-name{padding-left:calc(var(--depth)*2em);}.dg-detail-name > label{padding-left:8px;}.dg-detail-name > label > span{padding-left:0.1em;}.dg-detail-item .dg-detail-parent{grid-area:\"parent\";text-align:right;}.dg-detail-item .dg-detail-objtype{grid-area:\"objtype\";text-align:left;}.dg-detail-item .dg-detail-shape{max-width:30em;grid-area:\"shape\";text-align:left;}.sc-header .dg-detail-shape{margin-left:1em;text-align:left;}.dg-detail-item .dg-detail-dtype{grid-area:\"dtype\";text-align:left;}.dg-detail-item .dg-detail-unit{grid-area:\"unit\";text-align:center;}.dg-detail-item .dg-detail-preview{grid-area:\"preview\";min-width:15em;max-width:100em !important;text-align:left;}.dg-detail-preview .sc-preview span,.dg-detail-shape span{padding:0 !important;}</style><div class='sc-root dg-root'><input class='dg-header-in' id='datagroup-view-98b3edf4-13fe-47b8-9529-eb45da90aabd' type='checkbox' checked><div class='sc-header'><label for=datagroup-view-98b3edf4-13fe-47b8-9529-eb45da90aabd title='Expand/collapse'><div class='sc-obj-type'>scipp.DataGroup </div><div class='dg-detail-shape'>(panel: 3, id: 1638400, t: 50)</div></label></div><div class='dg-detail-box'><ul class='dg-detail-list'><li class='dg-detail-item'><div><div class='dg-detail-name' style='--depth: 0;'><span>counts</span></div><div class='dg-detail-parent'><span style='opacity: 0.5;'>scipp</span></div><div class='dg-detail-objtype'><span>DataArray</span></div><div class='dg-detail-shape'>(panel: 3, id: 1638400, t: 50)</div><div class='dg-detail-dtype'><span>float64</span></div><div class='dg-detail-unit'><span>counts</span></div><div class='dg-detail-preview'><span class='sc-preview'>0.0, 0.0, ..., 0.0, 0.0</span></div></div></li><li class='dg-detail-item'><div><div class='dg-detail-name' style='--depth: 0;'><span>proton_charge</span></div><div class='dg-detail-parent'><span style='opacity: 0.5;'>scipp</span></div><div class='dg-detail-objtype'><span>Variable</span></div><div class='dg-detail-shape'>(panel: 3)</div><div class='dg-detail-dtype'><span>float64</span></div><div class='dg-detail-unit'><span></span></div><div class='dg-detail-preview'><span class='sc-preview'>1.024e+04, 1.018e+04, 1.007e+04</span></div></div></li><li class='dg-detail-item'><div><div class='dg-detail-name' style='--depth: 0;'><span>crystal_rotation</span></div><div class='dg-detail-parent'><span style='opacity: 0.5;'>scipp</span></div><div class='dg-detail-objtype'><span>Variable</span></div><div class='dg-detail-shape'>()</div><div class='dg-detail-dtype'><span>vector3</span></div><div class='dg-detail-unit'><span>deg</span></div><div class='dg-detail-preview'><span class='sc-preview'>[0. 0. 0.]</span></div></div></li><li class='dg-detail-item'><div><div class='dg-detail-name' style='--depth: 0;'><span>fast_axis</span></div><div class='dg-detail-parent'><span style='opacity: 0.5;'>scipp</span></div><div class='dg-detail-objtype'><span>Variable</span></div><div class='dg-detail-shape'>(panel: 3)</div><div class='dg-detail-dtype'><span>vector3</span></div><div class='dg-detail-unit'><span>𝟙</span></div><div class='dg-detail-preview'><span class='sc-preview'>[ 0.999986    0.         -0.00529148], [-0.00531614  0.         -0.99998587], [0.00531614 0.         0.99998587]</span></div></div></li><li class='dg-detail-item'><div><div class='dg-detail-name' style='--depth: 0;'><span>slow_axis</span></div><div class='dg-detail-parent'><span style='opacity: 0.5;'>scipp</span></div><div class='dg-detail-objtype'><span>Variable</span></div><div class='dg-detail-shape'>(panel: 3)</div><div class='dg-detail-dtype'><span>vector3</span></div><div class='dg-detail-unit'><span>𝟙</span></div><div class='dg-detail-preview'><span class='sc-preview'>[0. 1. 0.], [0. 1. 0.], [0. 1. 0.]</span></div></div></li><li class='dg-detail-item'><div><div class='dg-detail-name' style='--depth: 0;'><span>origin_position</span></div><div class='dg-detail-parent'><span style='opacity: 0.5;'>scipp</span></div><div class='dg-detail-objtype'><span>Variable</span></div><div class='dg-detail-shape'>(panel: 3)</div><div class='dg-detail-dtype'><span>vector3</span></div><div class='dg-detail-unit'><span>m</span></div><div class='dg-detail-preview'><span class='sc-preview'>[-0.248454 -0.25      0.292   ], [-0.288666 -0.25      0.252   ], [ 0.288667 -0.25     -0.251   ]</span></div></div></li><li class='dg-detail-item'><div><div class='dg-detail-name' style='--depth: 0;'><span>sample_position</span></div><div class='dg-detail-parent'><span style='opacity: 0.5;'>scipp</span></div><div class='dg-detail-objtype'><span>Variable</span></div><div class='dg-detail-shape'>()</div><div class='dg-detail-dtype'><span>vector3</span></div><div class='dg-detail-unit'><span>m</span></div><div class='dg-detail-preview'><span class='sc-preview'>[0. 0. 0.]</span></div></div></li><li class='dg-detail-item'><div><div class='dg-detail-name' style='--depth: 0;'><span>source_position</span></div><div class='dg-detail-parent'><span style='opacity: 0.5;'>scipp</span></div><div class='dg-detail-objtype'><span>Variable</span></div><div class='dg-detail-shape'>()</div><div class='dg-detail-dtype'><span>vector3</span></div><div class='dg-detail-unit'><span>m</span></div><div class='dg-detail-preview'><span class='sc-preview'>[  -0.53123    0.      -157.405  ]</span></div></div></li><li class='dg-detail-item'><div><div class='dg-detail-name' style='--depth: 0;'><span>sample_name</span></div><div class='dg-detail-parent'><span style='opacity: 0.5;'>scipp</span></div><div class='dg-detail-objtype'><span>Variable</span></div><div class='dg-detail-shape'>()</div><div class='dg-detail-dtype'><span>string</span></div><div class='dg-detail-unit'><span></span></div><div class='dg-detail-preview'><span class='sc-preview'>sampleMantid</span></div></div></li><li class='dg-detail-item'><div><div class='dg-detail-name' style='--depth: 0;'><span>position</span></div><div class='dg-detail-parent'><span style='opacity: 0.5;'>scipp</span></div><div class='dg-detail-objtype'><span>Variable</span></div><div class='dg-detail-shape'>(panel: 3, id: 1638400)</div><div class='dg-detail-dtype'><span>vector3</span></div><div class='dg-detail-unit'><span>m</span></div><div class='dg-detail-preview'><span class='sc-preview'>[-0.248454 -0.25      0.292   ], [-0.24805401 -0.25        0.29199788], ..., [0.29138461 0.2616     0.26019278], [0.29138674 0.2616     0.26059277]</span></div></div></li></ul></div></div></div>"
      ],
      "text/plain": [
       "DataGroup(sizes={'panel': 3, 'id': 1638400, 't': 50}, keys=[\n",
       "    counts: DataArray({'panel': 3, 'id': 1638400, 't': 50}),\n",
       "    proton_charge: Variable({'panel': 3}),\n",
       "    crystal_rotation: Variable({}),\n",
       "    fast_axis: Variable({'panel': 3}),\n",
       "    slow_axis: Variable({'panel': 3}),\n",
       "    origin_position: Variable({'panel': 3}),\n",
       "    sample_position: Variable({}),\n",
       "    source_position: Variable({}),\n",
       "    sample_name: Variable({}),\n",
       "    position: Variable({'panel': 3, 'id': 1638400}),\n",
       "])"
      ]
     },
     "execution_count": 10,
     "metadata": {},
     "output_type": "execute_result"
    }
   ],
   "source": [
    "# Data from all selected detectors binned by panel, pixel and timeslice\n",
    "binned_dg = wf.compute(NMXReducedData)\n",
    "binned_dg"
   ]
  },
  {
   "cell_type": "markdown",
   "metadata": {},
   "source": [
    "## Export Results\n",
    "\n",
    "``NMXReducedData`` object has a method to export the data into nexus or h5 file.\n",
    "\n",
    "You can save the result as ``test.nxs``, for example:\n"
   ]
  },
  {
   "cell_type": "code",
   "execution_count": 3,
   "metadata": {},
   "outputs": [
    {
     "name": "stderr",
     "output_type": "stream",
     "text": [
      "\u001b[32m2025-02-25 14:20:25.714\u001b[0m | \u001b[1mINFO    \u001b[0m | \u001b[36mnmx_workflow.config\u001b[0m:\u001b[36m<module>\u001b[0m:\u001b[36m11\u001b[0m - \u001b[1mPROJ_ROOT path is: /Users/aaronfinke/nmx_workflow/nmx_workflow\u001b[0m\n"
     ]
    }
   ],
   "source": [
    "from nmx_workflow.config import PROCESSED_DATA_DIR\n",
    "\n",
    "nexus_file = PROCESSED_DATA_DIR / \"scipp_export.nxs\"\n",
    "#export_as_nexus(binned_dg, nexus_file)"
   ]
  },
  {
   "cell_type": "markdown",
   "metadata": {},
   "source": [
    "## Instrument View\n",
    "\n",
    "Pixel positions are not used for later steps,\n",
    "but it is included in the coordinates for instrument view.\n",
    "\n",
    "All pixel positions are relative to the sample position,\n",
    "therefore the sample is at (0, 0, 0).\n",
    "\n",
    "**It might be very slow or not work in the ``VS Code`` jupyter notebook editor.**"
   ]
  },
  {
   "cell_type": "code",
   "execution_count": 12,
   "metadata": {},
   "outputs": [
    {
     "data": {
      "application/vnd.jupyter.widget-view+json": {
       "model_id": "5d675f910a7e42ee87892c773ef9f244",
       "version_major": 2,
       "version_minor": 0
      },
      "text/plain": [
       "Figure(children=(HBar(children=(HTML(value=''),)), HBox(children=(VBar(children=(Toolbar(children=(ButtonTool(…"
      ]
     },
     "execution_count": 12,
     "metadata": {},
     "output_type": "execute_result"
    }
   ],
   "source": [
    "\n",
    "import scippneutron as scn\n",
    "\n",
    "da = dg[\"weights\"]\n",
    "da.coords[\"position\"] = dg[\"position\"]\n",
    "# Plot one out of 100 pixels to reduce size of docs output\n",
    "view = scn.instrument_view(da.hist(), pixel_size=0.0004, cbar=True)\n",
    "view"
   ]
  },
  {
   "cell_type": "code",
   "execution_count": 2,
   "metadata": {},
   "outputs": [
    {
     "name": "stderr",
     "output_type": "stream",
     "text": [
      "\u001b[32m2025-02-13 10:39:11.809\u001b[0m | \u001b[1mINFO    \u001b[0m | \u001b[36mnmx_workflow.config\u001b[0m:\u001b[36m<module>\u001b[0m:\u001b[36m11\u001b[0m - \u001b[1mPROJ_ROOT path is: /Users/aaronfinke/nmx_workflow/nmx_workflow\u001b[0m\n"
     ]
    }
   ],
   "source": [
    "datafiles = [\"mccode_phi0.h5\", \"mccode_phi10.h5\", \"mccode_phi20.h5\", \"mccode_phi30.h5\", \"mccode_phi40.h5\", \"mccode_phi50.h5\"]\n",
    "\n",
    "from nmx_workflow.config import POOCH_DATA_DIR\n",
    "from nmx_workflow.config import PROCESSED_DATA_DIR\n",
    "\n",
    "# from nmx_workflow.dataset import download_datafiles\n",
    "# download_datafiles([datafile])\n",
    "\n",
    "datafile_paths = [POOCH_DATA_DIR / datafile for datafile in datafiles]\n",
    "assert False not in [df.exists() for df in datafile_paths]"
   ]
  },
  {
   "cell_type": "code",
   "execution_count": 5,
   "metadata": {},
   "outputs": [
    {
     "name": "stdout",
     "output_type": "stream",
     "text": [
      "Processing file /Users/aaronfinke/nmx_workflow/nmx_workflow/data/raw/main/mccode_phi0.h5...\n",
      "Processing file /Users/aaronfinke/nmx_workflow/nmx_workflow/data/raw/main/mccode_phi10.h5...\n",
      "Processing file /Users/aaronfinke/nmx_workflow/nmx_workflow/data/raw/main/mccode_phi20.h5...\n",
      "Processing file /Users/aaronfinke/nmx_workflow/nmx_workflow/data/raw/main/mccode_phi30.h5...\n",
      "Processing file /Users/aaronfinke/nmx_workflow/nmx_workflow/data/raw/main/mccode_phi40.h5...\n",
      "Processing file /Users/aaronfinke/nmx_workflow/nmx_workflow/data/raw/main/mccode_phi50.h5...\n"
     ]
    }
   ],
   "source": [
    "from nmx_workflow.config import PROCESSED_DATA_DIR\n",
    "from cyclebane.graph import NodeName, IndexValues\n",
    "import gc\n",
    "\n",
    "for datafile_path in datafile_paths:\n",
    "    print(f\"Processing file {str(datafile_path)}...\")\n",
    "    wf = McStasWorkflow()\n",
    "    wf[FilePath] = datafile_path\n",
    "    wf[MaximumProbability] = 10000\n",
    "    wf[TimeBinSteps] = 50\n",
    "    wf[NMXReducedData] = (\n",
    "            wf[NMXReducedData]\n",
    "            .map({DetectorIndex: sc.arange('panel', 3, unit=None)})\n",
    "            .reduce(index=\"panel\", func=merge_panels)\n",
    "        )\n",
    "    targets = [NodeName(NMXData, IndexValues((\"panel\",), (i,))) for i in range(3)]\n",
    "    dg = merge_panels(*wf.compute(targets).values())\n",
    "    binned_dg = wf.compute(NMXReducedData)\n",
    "\n",
    "    with h5py.File(datafile_path) as fp:\n",
    "        phi = fp['entry1/simulation/Param/XtalPhiY'][...]\n",
    "    phi = int(phi[0])\n",
    "\n",
    "    nexus_file = PROCESSED_DATA_DIR / f\"scipp_export_phi{phi}.nxs\"\n",
    "    export_as_nexus(binned_dg, nexus_file)\n",
    "\n",
    "    with h5py.File(nexus_file,'r+') as fp:\n",
    "        det_data = fp['NMX_data']['NXinstrument']['detector_1']\n",
    "        fp['NMX_data']['detector_1'] =  det_data\n",
    "        del fp['NMX_data']['NXinstrument']['detector_1']\n",
    "    wf = None\n",
    "    dg = None\n",
    "    binned_dg = None\n",
    "    gc.collect()\n",
    "\n",
    "    \n"
   ]
  },
  {
   "cell_type": "code",
   "execution_count": 3,
   "metadata": {},
   "outputs": [
    {
     "name": "stderr",
     "output_type": "stream",
     "text": [
      "2025-02-25 15:18:47.675 | INFO     | nmx_workflow.config:<module>:11 - PROJ_ROOT path is: /Users/aaronfinke/nmx_workflow/nmx_workflow\n"
     ]
    },
    {
     "data": {
      "text/plain": [
       "['/Users/aaronfinke/nmx_workflow/nmx_workflow/data/processed/scipp_export_phi30.nxs',\n",
       " '/Users/aaronfinke/nmx_workflow/nmx_workflow/data/processed/scipp_export_phi20.nxs',\n",
       " '/Users/aaronfinke/nmx_workflow/nmx_workflow/data/processed/scipp_export_phi50.nxs',\n",
       " '/Users/aaronfinke/nmx_workflow/nmx_workflow/data/processed/scipp_export_phi0.nxs',\n",
       " '/Users/aaronfinke/nmx_workflow/nmx_workflow/data/processed/scipp_export_phi40.nxs',\n",
       " '/Users/aaronfinke/nmx_workflow/nmx_workflow/data/processed/scipp_export_phi10.nxs']"
      ]
     },
     "execution_count": 3,
     "metadata": {},
     "output_type": "execute_result"
    }
   ],
   "source": [
    "import glob\n",
    "from nmx_workflow.config import PROCESSED_DATA_DIR\n",
    "output_paths = glob.glob(f\"{PROCESSED_DATA_DIR}/scipp_export*\")\n",
    "output_paths"
   ]
  },
  {
   "cell_type": "markdown",
   "metadata": {},
   "source": [
    "The below is a quick workaround for current DIALS install, will be fixed in DIALS later."
   ]
  },
  {
   "cell_type": "markdown",
   "metadata": {},
   "source": [
    "## Data Reduction with DIALS\n",
    "\n",
    "DIALS will be used for spotfinding, indexing, integration."
   ]
  },
  {
   "cell_type": "code",
   "execution_count": 19,
   "metadata": {},
   "outputs": [],
   "source": [
    "from libtbx.phil import parse\n",
    "\n",
    "from dials.command_line import dials_import\n",
    "from dials.command_line import find_spots\n",
    "from dials.command_line import index\n",
    "from dials.command_line import refine\n",
    "from dials.command_line import tof_integrate\n",
    "\n",
    "from dials.util import log\n",
    "\n",
    "from dials.array_family.flex import reflection_table\n",
    "from dxtbx.model.experiment_list import ExperimentListFactory\n",
    "\n",
    "from libtbx.phil import parse"
   ]
  },
  {
   "cell_type": "code",
   "execution_count": 5,
   "metadata": {},
   "outputs": [],
   "source": [
    "dials_directory = PROCESSED_DATA_DIR / \"dials\"\n",
    "dials_directory.mkdir(exist_ok=True)"
   ]
  },
  {
   "cell_type": "markdown",
   "metadata": {},
   "source": [
    "## Importing Data into DIALS\n",
    "\n",
    "DIALS uses PHIL (Python-based hierarchical interchange language), a JSON-like format for setting and organizing parameters for each processing module."
   ]
  },
  {
   "cell_type": "code",
   "execution_count": 6,
   "metadata": {},
   "outputs": [],
   "source": [
    "phil_scope = dials_import.phil_scope\n",
    "format_phil = parse(f\"\"\"\n",
    "output {{\n",
    "    experiments = '{dials_directory}/imported.expt'\n",
    "    log = '{dials_directory}/dials.import.log'\n",
    "    compact = False\n",
    "}}\n",
    "\"\"\")\n",
    "# working_phil = phil_scope.fetch(\n",
    "#     sources = [format_phil])\n",
    "# x = working_phil.format(python_object=None)\n",
    "arg_hil = []\n",
    "for x in format_phil.all_definitions():\n",
    "    arg_hil.append(x.path + '=' + x.object.words[0].value)\n"
   ]
  },
  {
   "cell_type": "code",
   "execution_count": 7,
   "metadata": {},
   "outputs": [
    {
     "name": "stdout",
     "output_type": "stream",
     "text": [
      "100%|██████████| 6/6 [00:00<00:00, 110.28it/s]\n"
     ]
    }
   ],
   "source": [
    "log.config(verbosity=0,logfile=f\"{dials_directory}/dials.import.log\")\n",
    "experiments = dials_import.do_import(args=[str(nexus_file) for nexus_file in output_paths] + arg_hil, phil=phil_scope, configure_logging=True);"
   ]
  },
  {
   "cell_type": "markdown",
   "metadata": {},
   "source": [
    "## Spot Finding\n",
    "\n",
    "Spotfinding looks for spots on images separated by time bins."
   ]
  },
  {
   "cell_type": "code",
   "execution_count": 11,
   "metadata": {},
   "outputs": [],
   "source": [
    "findSpots = parse(f\"\"\"\n",
    "output {{\n",
    "    reflections = '{dials_directory}/strong.refl'\n",
    "    log = '{dials_directory}/dials.find_spots.log'\n",
    "}}\n",
    "spotfinder {{\n",
    "threshold {{\n",
    "   dispersion {{\n",
    "     gain = 0.0013\n",
    "     kernel_size = 15 15\n",
    "     sigma_background = 5\n",
    "     sigma_strong = 3\n",
    "     min_local = 2\n",
    "\t}}\n",
    "     algorithm=radial_profile\n",
    "\n",
    "}}\n",
    "filter {{\n",
    "   min_spot_size = 30\n",
    "   max_spot_size = 9000\n",
    "\n",
    "}}\n",
    "}}\n",
    "\"\"\")\n",
    "\n",
    "working_phil = find_spots.working_phil\n",
    "\n",
    "findSpots_phil = working_phil.fetch(\n",
    "    sources=[findSpots])\n",
    "\n",
    "findSpots_params = findSpots_phil.extract()\n",
    "\n",
    "with open(dials_directory/'find_spots.phil','w') as fp:\n",
    "    findSpots_phil.show(out=fp)"
   ]
  },
  {
   "cell_type": "code",
   "execution_count": 12,
   "metadata": {},
   "outputs": [],
   "source": [
    "log.config(verbosity=0,logfile=findSpots_params.output.log)\n",
    "reflections = find_spots.do_spotfinding(experiments=experiments, params=findSpots_params)\n"
   ]
  },
  {
   "cell_type": "markdown",
   "metadata": {},
   "source": [
    "## Indexing in DIALS"
   ]
  },
  {
   "cell_type": "code",
   "execution_count": 13,
   "metadata": {},
   "outputs": [],
   "source": [
    "index_phil = index.phil_scope\n",
    "unit_cell = [33.41,34.75,43.65,90,90,90]\n",
    "space_group = 'P212121'\n",
    "\n",
    "index_options = parse(\n",
    "f\"\"\"output {{\n",
    "    reflections = '{dials_directory}/indexed.refl'\n",
    "    experiments = '{dials_directory}/indexed.expt'\n",
    "    log = '{dials_directory}/dials.index.log'\n",
    "}}\n",
    "\n",
    "indexing {{\n",
    "  known_symmetry {{\n",
    "    space_group = \"{space_group}\"\n",
    "    unit_cell = {\",\".join(str(x) for x in unit_cell)}\n",
    "  }}\n",
    "}}\n",
    "\"\"\")\n",
    "\n",
    "index_params = index_phil.fetch(\n",
    "    sources=[index_options]).extract()"
   ]
  },
  {
   "cell_type": "code",
   "execution_count": 14,
   "metadata": {},
   "outputs": [],
   "source": [
    "log.config(verbosity=0, logfile=index_params.output.log)\n",
    "indexed_experiments, indexed_reflections = index.index(\n",
    "    experiments=experiments,\n",
    "    reflections=[reflections],\n",
    "    params=index_params)\n"
   ]
  },
  {
   "cell_type": "markdown",
   "metadata": {},
   "source": [
    "## Refinement \n",
    "Refine the diffraction geometry against indexed reflections"
   ]
  },
  {
   "cell_type": "code",
   "execution_count": 25,
   "metadata": {},
   "outputs": [],
   "source": [
    "refinement_phil = refine.phil_scope\n",
    "\n",
    "refine_options = parse(\n",
    "f\"\"\"\n",
    "output {{\n",
    "    experiments = {dials_directory}/refined.expt\n",
    "    reflections = {dials_directory}/refined.refl\n",
    "    log = {dials_directory}/dials.refine.log\n",
    "}}\n",
    "detector {{\n",
    "    panels = hierarchical\n",
    "}}\n",
    "\"\"\"\n",
    ")\n",
    "\n",
    "refine_params = refinement_phil.fetch(\n",
    "    sources=[refine_options]).extract()"
   ]
  },
  {
   "cell_type": "code",
   "execution_count": 26,
   "metadata": {},
   "outputs": [],
   "source": [
    "log.config(verbosity=0, logfile=refine_params.output.log)\n",
    "refined_experiments, refined_reflections, refiner, refine_history = refine.run_dials_refine(\n",
    "    indexed_experiments, indexed_reflections, refine_params)"
   ]
  },
  {
   "cell_type": "markdown",
   "metadata": {},
   "source": [
    "## Integrating TOF Data"
   ]
  },
  {
   "cell_type": "code",
   "execution_count": 32,
   "metadata": {},
   "outputs": [],
   "source": [
    "dmin = None\n",
    "\n",
    "integration_phil = tof_integrate.phil_scope\n",
    "\n",
    "integration_options = parse(\n",
    "f\"\"\"\n",
    "output {{\n",
    "    experiments = {dials_directory}/integrated.expt\n",
    "    reflections = {dials_directory}/integrated.refl\n",
    "    log = {dials_directory}/dials.tof_integrate.log\n",
    "}}\n",
    "integration_type = *observed calculated\n",
    "\n",
    "calculated{{\n",
    "    dmin = {dmin if dmin else 'none'}\n",
    "}}\n",
    "method = *summation seed_skewness profile1d\n",
    "\"\"\"\n",
    ")\n",
    "\n",
    "integration_params = integration_phil.fetch(\n",
    "    sources=[integration_options]).extract()"
   ]
  },
  {
   "cell_type": "code",
   "execution_count": 33,
   "metadata": {},
   "outputs": [
    {
     "name": "stdout",
     "output_type": "stream",
     "text": [
      "dmin 1.04437263169572"
     ]
    },
    {
     "name": "stdout",
     "output_type": "stream",
     "text": [
      "\n",
      "Getting shoebox data\n",
      "Computing for experiment 0\n",
      "  Calculating summed intensities for expt <dxtbx_model_ext.Experiment object at 0x304a12ab0>\n",
      "Computing for experiment 1\n",
      "  Calculating summed intensities for expt <dxtbx_model_ext.Experiment object at 0x304a12ea0>\n",
      "Computing for experiment 2\n",
      "  Calculating summed intensities for expt <dxtbx_model_ext.Experiment object at 0x304a12c00>\n",
      "Computing for experiment 3\n",
      "  Calculating summed intensities for expt <dxtbx_model_ext.Experiment object at 0x304a126c0>\n",
      "Computing for experiment 4\n",
      "  Calculating summed intensities for expt <dxtbx_model_ext.Experiment object at 0x306144040>\n",
      "Computing for experiment 5\n",
      "  Calculating summed intensities for expt <dxtbx_model_ext.Experiment object at 0x306144120>\n"
     ]
    }
   ],
   "source": [
    "integrated_reflections = tof_integrate.run_integrate(integration_params,refined_experiments,refined_reflections)\n",
    "integrated_reflections.as_msgpack_file(integration_params.output.reflections)\n",
    "refined_experiments.as_file(integration_params.output.experiments)"
   ]
  },
  {
   "cell_type": "code",
   "execution_count": 79,
   "metadata": {},
   "outputs": [],
   "source": [
    "def get_unit_cell_from_real_space(experiment) -> tuple:\n",
    "    \"\"\"\n",
    "    Get the unit cell from real-space parameters from\n",
    "    the DIALS experiment file.\n",
    "    \"\"\"\n",
    "    from dxtbx.model import ExperimentList\n",
    "    if isinstance(experiment,ExperimentList):\n",
    "        experiment = experiment[0]\n",
    "\n",
    "    rs_a = experiment['crystal'][0]['real_space_a']\n",
    "    rs_b = experiment['crystal'][0]['real_space_b']\n",
    "    rs_c = experiment['crystal'][0]['real_space_c']\n",
    "    mag_a = np.linalg.norm(rs_a)\n",
    "    mag_b = np.linalg.norm(rs_b)\n",
    "    mag_c = np.linalg.norm(rs_c)\n",
    "    al = np.degrees(np.arccos(np.dot(rs_b,rs_c)/(mag_b*mag_c)))\n",
    "    be = np.degrees(np.arccos(np.dot(rs_a,rs_c)/(mag_a*mag_c)))\n",
    "    ga = np.degrees(np.arccos(np.dot(rs_b,rs_a)/(mag_b*mag_a)))\n",
    "    return (mag_a,mag_b,mag_c,al,be,ga)\n",
    "\n",
    "def get_unit_cell(experiment) -> tuple[float]:\n",
    "    from dxtbx.model import ExperimentList\n",
    "    if isinstance(experiment,ExperimentList):\n",
    "        experiment = experiment[0]\n",
    "\n",
    "    uc = experiment.crystal.get_unit_cell()\n",
    "    return uc.parameters()"
   ]
  },
  {
   "cell_type": "code",
   "execution_count": null,
   "metadata": {},
   "outputs": [],
   "source": [
    "def get_spacegroup(experiment) -> tuple[str,int]:\n",
    "    \"\"\"\n",
    "    Get spacegroup from experiment file.\n",
    "    A bit roundabout way to do it.\n",
    "    \"\"\"\n",
    "    from dxtbx.model import ExperimentList\n",
    "    if isinstance(experiment,ExperimentList):\n",
    "        experiment = experiment[0]\n",
    "    sg = experiment.crystal.get_space_group()\n",
    "    sg_info = sg.info().symbol_and_number().split('(')\n",
    "    num = int(''.join(filter(str.isdigit, sg_info[1])))\n",
    "    sgstr = sg_info[0].rstrip()\n",
    "    return sgstr,num"
   ]
  },
  {
   "cell_type": "code",
   "execution_count": 80,
   "metadata": {},
   "outputs": [
    {
     "data": {
      "text/plain": [
       "(34.741638082128595, 35.80710864687599, 44.56594505425292, 90.0, 90.0, 90.0)"
      ]
     },
     "execution_count": 80,
     "metadata": {},
     "output_type": "execute_result"
    }
   ],
   "source": [
    "get_spacegroup(refined_experiments)\n",
    "get_unit_cell(refined_experiments)"
   ]
  },
  {
   "cell_type": "code",
   "execution_count": 17,
   "metadata": {},
   "outputs": [],
   "source": [
    "def get_asu(row):\n",
    "    return asu.to_asu(row['hkl'],space_group.operations())[0]"
   ]
  },
  {
   "cell_type": "code",
   "execution_count": 79,
   "metadata": {},
   "outputs": [
    {
     "name": "stdout",
     "output_type": "stream",
     "text": [
      " message: Iteration limit reached\n",
      " success: False\n",
      "  status: 9\n",
      "     fun: 88928630379.9337\n",
      "       x: [-6.875e+12  5.335e+12 -1.787e+12 -2.029e+12  4.945e+12\n",
      "           -6.836e+12  7.197e+12]\n",
      "     nit: 100\n",
      "     jac: [ 2.339e-02  4.849e-02  1.084e-02 -2.464e-02  4.775e-02\n",
      "            1.874e-02 -2.975e-02]\n",
      "    nfev: 830\n",
      "    njev: 100\n"
     ]
    }
   ],
   "source": [
    "from scipy.optimize import minimize\n",
    "import copy\n",
    "\n",
    "# Remove points w. zero sigma\n",
    "df = copy.deepcopy(df[df['I'] > 0])\n",
    "\n",
    "\"\"\"\n",
    "Normalized wavelength, Eq. 11\n",
    "\n",
    "Arguments:\n",
    "    wavelength: wavelength\n",
    "    min_wavelength: minimum wavelength\n",
    "    max_wavelength: maximum wavelength\n",
    "\"\"\"\n",
    "def l_norm(l, l_min, l_max):\n",
    "    return (2*l - l_max - l_min) / (l_max - l_min)\n",
    "    #return np.polynomial.chebyshev.Chebyshev(poly_coeffs)(wavelength_prime)\n",
    "\n",
    "\"\"\"\n",
    "Function to minimize, variations of Eq. 2\n",
    "\n",
    "Parameters:\n",
    "    poly_coeffs: array of length `n_ord` (LSCALE terminology)\n",
    "\"\"\"\n",
    "def target_func(poly_coeffs):\n",
    "    l_ref = df.LAMBDA.mean()\n",
    "    l_min = df.LAMBDA.min()\n",
    "    l_max = df.LAMBDA.max()\n",
    "    chebyshev = np.polynomial.chebyshev.Chebyshev(poly_coeffs)\n",
    "    reference = chebyshev(l_norm(l_ref, l_min, l_max))\n",
    "    df[\"fL\"] = df.LAMBDA.apply(lambda l: chebyshev(l_norm(l, l_min, l_max)) ) / reference\n",
    "    df[\"f_tot\"] = df.fL #* df.fLorentz * df.fP * df.fob\n",
    "    return (((df.f_tot * df.I - df.I.mean()) / (df.SIGI * df.f_tot))**2).sum()\n",
    "\n",
    "# poly_coeffs = np.array([7.947e+05, -3.875e+05, -4.088e+05])\n",
    "poly_coeffs = np.array([1,1,1,1,1,1,1])\n",
    "\n",
    "fit = minimize(target_func, poly_coeffs, method='SLSQP', tol=1e-3)\n",
    "print(fit)\n",
    "# df.plot(x='wavelength', y='fL', kind='scatter')"
   ]
  },
  {
   "cell_type": "code",
   "execution_count": 77,
   "metadata": {},
   "outputs": [
    {
     "data": {
      "text/plain": [
       "1.8445288356777902"
      ]
     },
     "execution_count": 77,
     "metadata": {},
     "output_type": "execute_result"
    }
   ],
   "source": [
    "df.LAMBDA.min()"
   ]
  },
  {
   "cell_type": "code",
   "execution_count": null,
   "metadata": {},
   "outputs": [
    {
     "name": "stdout",
     "output_type": "stream",
     "text": [
      "The autoreload extension is already loaded. To reload it, use:\n",
      "  %reload_ext autoreload\n"
     ]
    }
   ],
   "source": [
    "%load_ext autoreload\n",
    "%autoreload 2\n",
    "\n",
    "from ess.nmx.mcstas import McStasMetadataWorkflow\n",
    "from ess.nmx.mcstas.load import NMXMetadata"
   ]
  },
  {
   "cell_type": "code",
   "execution_count": 22,
   "metadata": {},
   "outputs": [],
   "source": [
    "mdwf = McStasMetadataWorkflow()\n",
    "\n",
    "mdwf[FilePath] = '/Users/aaronfinke/nmx_workflow/nmx_workflow/data/raw/main/mccode_phi0.h5'"
   ]
  },
  {
   "cell_type": "code",
   "execution_count": 23,
   "metadata": {},
   "outputs": [],
   "source": [
    "mdwf[NMXMetadata] = (\n",
    "    mdwf[NMXMetadata]\n",
    "    .map({DetectorIndex: sc.arange('panel', 3, unit=None)})\n",
    "    .reduce(index=\"panel\", func=merge_panels)\n",
    ")\n"
   ]
  },
  {
   "cell_type": "code",
   "execution_count": 24,
   "metadata": {},
   "outputs": [
    {
     "data": {
      "image/svg+xml": [
       "<?xml version=\"1.0\" encoding=\"UTF-8\" standalone=\"no\"?>\n",
       "<!DOCTYPE svg PUBLIC \"-//W3C//DTD SVG 1.1//EN\"\n",
       " \"http://www.w3.org/Graphics/SVG/1.1/DTD/svg11.dtd\">\n",
       "<!-- Generated by graphviz version 12.0.0 (0)\n",
       " -->\n",
       "<!-- Pages: 1 -->\n",
       "<svg width=\"346pt\" height=\"309pt\"\n",
       " viewBox=\"0.00 0.00 345.88 308.50\" xmlns=\"http://www.w3.org/2000/svg\" xmlns:xlink=\"http://www.w3.org/1999/xlink\">\n",
       "<g id=\"graph0\" class=\"graph\" transform=\"scale(1 1) rotate(0) translate(4 304.5)\">\n",
       "<polygon fill=\"white\" stroke=\"none\" points=\"-4,4 -4,-304.5 341.88,-304.5 341.88,4 -4,4\"/>\n",
       "<!-- FilePath -->\n",
       "<g id=\"node1\" class=\"node\">\n",
       "<title>FilePath</title>\n",
       "<polygon fill=\"none\" stroke=\"black\" points=\"106.62,-300.5 45.62,-300.5 45.62,-276 106.62,-276 106.62,-300.5\"/>\n",
       "<text text-anchor=\"middle\" x=\"76.12\" y=\"-283.2\" font-family=\"Times,serif\" font-size=\"14.00\">FilePath</text>\n",
       "</g>\n",
       "<!-- CrystalRotation -->\n",
       "<g id=\"node2\" class=\"node\">\n",
       "<title>CrystalRotation</title>\n",
       "<polygon fill=\"none\" stroke=\"black\" points=\"126.25,-171 0,-171 0,-138 126.25,-138 126.25,-171\"/>\n",
       "<text text-anchor=\"start\" x=\"20.38\" y=\"-154.7\" font-family=\"Times,serif\" font-size=\"14.00\">CrystalRotation</text>\n",
       "<text text-anchor=\"start\" x=\"8\" y=\"-143.55\" font-family=\"Times,serif\" font-size=\"11.00\">via:</text>\n",
       "<text text-anchor=\"start\" x=\"24.5\" y=\"-143.55\" font-family=\"Times,serif\" font-style=\"italic\" font-size=\"11.00\">load_crystal_rotation</text>\n",
       "</g>\n",
       "<!-- FilePath&#45;&gt;CrystalRotation -->\n",
       "<g id=\"edge1\" class=\"edge\">\n",
       "<title>FilePath&#45;&gt;CrystalRotation</title>\n",
       "<path fill=\"none\" stroke=\"black\" d=\"M63.52,-275.81C54.81,-266.99 43.95,-253.99 39.12,-240 32.43,-220.6 39.4,-198.26 47.52,-181.42\"/>\n",
       "<polygon fill=\"black\" stroke=\"black\" points=\"50.62,-183.05 52.19,-172.57 44.43,-179.79 50.62,-183.05\"/>\n",
       "</g>\n",
       "<!-- McStasInstrument -->\n",
       "<g id=\"node3\" class=\"node\">\n",
       "<title>McStasInstrument</title>\n",
       "<polygon fill=\"none\" stroke=\"black\" points=\"199.62,-240 42.62,-240 42.62,-207 199.62,-207 199.62,-240\"/>\n",
       "<text text-anchor=\"start\" x=\"70.88\" y=\"-223.7\" font-family=\"Times,serif\" font-size=\"14.00\">McStasInstrument</text>\n",
       "<text text-anchor=\"start\" x=\"50.62\" y=\"-212.55\" font-family=\"Times,serif\" font-size=\"11.00\">via:</text>\n",
       "<text text-anchor=\"start\" x=\"67.12\" y=\"-212.55\" font-family=\"Times,serif\" font-style=\"italic\" font-size=\"11.00\">read_mcstas_geometry_xml</text>\n",
       "</g>\n",
       "<!-- FilePath&#45;&gt;McStasInstrument -->\n",
       "<g id=\"edge4\" class=\"edge\">\n",
       "<title>FilePath&#45;&gt;McStasInstrument</title>\n",
       "<path fill=\"none\" stroke=\"black\" d=\"M84.38,-275.74C89.6,-268.47 96.55,-258.77 103,-249.77\"/>\n",
       "<polygon fill=\"black\" stroke=\"black\" points=\"105.84,-251.82 108.82,-241.66 100.15,-247.74 105.84,-251.82\"/>\n",
       "</g>\n",
       "<!-- NMXMetadata(panel) -->\n",
       "<g id=\"node6\" class=\"node\">\n",
       "<title>NMXMetadata(panel)</title>\n",
       "<polygon fill=\"none\" stroke=\"black\" points=\"205.88,-102 72.04,-102 68.38,-98.33 68.38,-69 202.21,-69 205.88,-72.67 205.88,-102\"/>\n",
       "<polyline fill=\"none\" stroke=\"black\" points=\"202.21,-98.33 68.38,-98.33\"/>\n",
       "<polyline fill=\"none\" stroke=\"black\" points=\"202.21,-98.33 202.21,-69\"/>\n",
       "<polyline fill=\"none\" stroke=\"black\" points=\"202.21,-98.33 205.88,-102\"/>\n",
       "<text text-anchor=\"start\" x=\"76.38\" y=\"-85.7\" font-family=\"Times,serif\" font-size=\"14.00\">NMXMetadata(panel)</text>\n",
       "<text text-anchor=\"start\" x=\"78.62\" y=\"-74.55\" font-family=\"Times,serif\" font-size=\"11.00\">via:</text>\n",
       "<text text-anchor=\"start\" x=\"95.12\" y=\"-74.55\" font-family=\"Times,serif\" font-style=\"italic\" font-size=\"11.00\">load_mcstas_metadata</text>\n",
       "</g>\n",
       "<!-- CrystalRotation&#45;&gt;NMXMetadata(panel) -->\n",
       "<g id=\"edge6\" class=\"edge\">\n",
       "<title>CrystalRotation&#45;&gt;NMXMetadata(panel)</title>\n",
       "<path fill=\"none\" stroke=\"black\" d=\"M80.66,-137.62C89.72,-129.42 100.95,-119.25 111.01,-110.15\"/>\n",
       "<polygon fill=\"black\" stroke=\"black\" points=\"113.27,-112.82 118.34,-103.51 108.57,-107.63 113.27,-112.82\"/>\n",
       "</g>\n",
       "<!-- McStasInstrument&#45;&gt;CrystalRotation -->\n",
       "<g id=\"edge2\" class=\"edge\">\n",
       "<title>McStasInstrument&#45;&gt;CrystalRotation</title>\n",
       "<path fill=\"none\" stroke=\"black\" d=\"M107.38,-206.62C100.45,-198.61 91.88,-188.72 84.15,-179.78\"/>\n",
       "<polygon fill=\"black\" stroke=\"black\" points=\"86.95,-177.68 77.76,-172.41 81.66,-182.26 86.95,-177.68\"/>\n",
       "</g>\n",
       "<!-- McStasInstrument&#45;&gt;NMXMetadata(panel) -->\n",
       "<g id=\"edge8\" class=\"edge\">\n",
       "<title>McStasInstrument&#45;&gt;NMXMetadata(panel)</title>\n",
       "<path fill=\"none\" stroke=\"black\" d=\"M123.82,-206.76C125.5,-196.58 127.62,-183.03 129.12,-171 131.52,-151.82 133.56,-130.11 134.98,-113.5\"/>\n",
       "<polygon fill=\"black\" stroke=\"black\" points=\"138.44,-114.18 135.78,-103.92 131.46,-113.6 138.44,-114.18\"/>\n",
       "</g>\n",
       "<!-- DetectorIndex(panel) -->\n",
       "<g id=\"node4\" class=\"node\">\n",
       "<title>DetectorIndex(panel)</title>\n",
       "<polygon fill=\"none\" stroke=\"black\" points=\"337.88,-235.75 209.1,-235.75 206.38,-233.03 206.38,-211.25 335.15,-211.25 337.88,-213.97 337.88,-235.75\"/>\n",
       "<polyline fill=\"none\" stroke=\"black\" points=\"335.15,-233.03 206.38,-233.03\"/>\n",
       "<polyline fill=\"none\" stroke=\"black\" points=\"335.15,-233.03 335.15,-211.25\"/>\n",
       "<polyline fill=\"none\" stroke=\"black\" points=\"335.15,-233.03 337.88,-235.75\"/>\n",
       "<text text-anchor=\"middle\" x=\"272.12\" y=\"-218.45\" font-family=\"Times,serif\" font-size=\"14.00\">DetectorIndex(panel)</text>\n",
       "</g>\n",
       "<!-- DetectorName(panel) -->\n",
       "<g id=\"node5\" class=\"node\">\n",
       "<title>DetectorName(panel)</title>\n",
       "<polygon fill=\"none\" stroke=\"black\" points=\"332.75,-171 183.17,-171 179.5,-167.33 179.5,-138 329.08,-138 332.75,-141.67 332.75,-171\"/>\n",
       "<polyline fill=\"none\" stroke=\"black\" points=\"329.08,-167.33 179.5,-167.33\"/>\n",
       "<polyline fill=\"none\" stroke=\"black\" points=\"329.08,-167.33 329.08,-138\"/>\n",
       "<polyline fill=\"none\" stroke=\"black\" points=\"329.08,-167.33 332.75,-171\"/>\n",
       "<text text-anchor=\"start\" x=\"197.25\" y=\"-154.7\" font-family=\"Times,serif\" font-size=\"14.00\">DetectorName(panel)</text>\n",
       "<text text-anchor=\"start\" x=\"187.5\" y=\"-143.55\" font-family=\"Times,serif\" font-size=\"11.00\">via:</text>\n",
       "<text text-anchor=\"start\" x=\"204\" y=\"-143.55\" font-family=\"Times,serif\" font-style=\"italic\" font-size=\"11.00\">detector_name_from_index</text>\n",
       "</g>\n",
       "<!-- DetectorIndex(panel)&#45;&gt;DetectorName(panel) -->\n",
       "<g id=\"edge3\" class=\"edge\">\n",
       "<title>DetectorIndex(panel)&#45;&gt;DetectorName(panel)</title>\n",
       "<path fill=\"none\" stroke=\"black\" d=\"M269.34,-210.83C267.46,-202.96 264.9,-192.25 262.53,-182.34\"/>\n",
       "<polygon fill=\"black\" stroke=\"black\" points=\"265.98,-181.69 260.25,-172.78 259.17,-183.32 265.98,-181.69\"/>\n",
       "</g>\n",
       "<!-- DetectorName(panel)&#45;&gt;NMXMetadata(panel) -->\n",
       "<g id=\"edge7\" class=\"edge\">\n",
       "<title>DetectorName(panel)&#45;&gt;NMXMetadata(panel)</title>\n",
       "<path fill=\"none\" stroke=\"black\" d=\"M227.92,-137.62C212.18,-128.76 192.35,-117.59 175.24,-107.96\"/>\n",
       "<polygon fill=\"black\" stroke=\"black\" points=\"177.29,-105.1 166.86,-103.24 173.85,-111.19 177.29,-105.1\"/>\n",
       "</g>\n",
       "<!-- NMXMetadata -->\n",
       "<g id=\"node7\" class=\"node\">\n",
       "<title>NMXMetadata</title>\n",
       "<polygon fill=\"none\" stroke=\"black\" points=\"186.75,-33 87.5,-33 87.5,0 186.75,0 186.75,-33\"/>\n",
       "<text text-anchor=\"start\" x=\"95.5\" y=\"-16.7\" font-family=\"Times,serif\" font-size=\"14.00\">NMXMetadata</text>\n",
       "<text text-anchor=\"start\" x=\"98.12\" y=\"-5.55\" font-family=\"Times,serif\" font-size=\"11.00\">via:</text>\n",
       "<text text-anchor=\"start\" x=\"114.62\" y=\"-5.55\" font-family=\"Times,serif\" font-style=\"italic\" font-size=\"11.00\">merge_panels</text>\n",
       "</g>\n",
       "<!-- NMXMetadata(panel)&#45;&gt;NMXMetadata -->\n",
       "<g id=\"edge5\" class=\"edge\">\n",
       "<title>NMXMetadata(panel)&#45;&gt;NMXMetadata</title>\n",
       "<path fill=\"none\" stroke=\"black\" d=\"M137.12,-68.62C137.12,-61.45 137.12,-52.76 137.12,-44.6\"/>\n",
       "<polygon fill=\"black\" stroke=\"black\" points=\"140.63,-44.78 137.13,-34.78 133.63,-44.78 140.63,-44.78\"/>\n",
       "</g>\n",
       "</g>\n",
       "</svg>\n"
      ],
      "text/plain": [
       "<graphviz.graphs.Digraph at 0x15b82bee0>"
      ]
     },
     "execution_count": 24,
     "metadata": {},
     "output_type": "execute_result"
    }
   ],
   "source": [
    "mdwf.visualize(NMXMetadata, graph_attr={\"rankdir\": \"TD\"}, compact=True)"
   ]
  },
  {
   "cell_type": "code",
   "execution_count": 25,
   "metadata": {},
   "outputs": [
    {
     "data": {
      "text/html": [
       "<div><style id=\"scipp-style-sheet\">.sc-root{--sc-background-color0:var(--jp-layout-color0,#fff);--sc-background-color1:var(--jp-layout-color1,#fcfcfc);--sc-background-color2:var(--jp-layout-color2,#efefef);--sc-inverse-background-color0:var(--jp-inverse-layout-color4,#111);--sc-font-color0:var(--jp-content-font-color0,#000);--sc-font-color1:var(--jp-content-font-color1,#555);--sc-font-color2:var(--jp-content-font-color2,#888);--sc-font-color3:var(--jp-content-font-color3,#ccc);}body.vscode-dark .sc-root{--sc-font-color0:rgba(255,255,255,1);--sc-font-color1:rgba(255,255,255,0.70);--sc-font-color2:rgba(255,255,255,0.54);--sc-font-color3:rgba(255,255,255,0.38);--sc-border-color:#1F1F1F;--sc-disabled-color:#515151;--sc-background-color0:#111111;--sc-background-color1:#111111;--sc-background-color2:#313131;}.sc-wrap{font-size:14px;min-width:300px;max-width:800px;}.sc-var-attrs .sc-wrap{padding-left:3em;}.sc-header{padding-top:6px;padding-bottom:6px;margin-bottom:4px;border-bottom:solid 1px #ddd;}.sc-header > div,.sc-header > ul{display:inline;margin-top:0;margin-bottom:0;}.sc-obj-type,.sc-array-name{margin-left:2px;margin-right:10px;}.sc-obj-type{color:var(--sc-font-color1);}.sc-underlying-size{color:var(--sc-font-color2);}.sc-sections,.reveal .sc-sections{padding-left:0 !important;display:grid;grid-template-columns:150px auto auto auto 1fr 20px 20px;}.sc-section-item{display:contents;}.sc-section-item input{display:none;}.sc-section-item input:enabled + label{cursor:pointer;color:var(--sc-font-color1);}.sc-section-item input:enabled + label:hover{color:var(--sc-font-color0);}.sc-section-summary{grid-column:1;font-weight:500;}.sc-section-summary > span{display:inline-block;padding-left:0.5em;}.sc-section-summary-in:disabled + label{color:var(--sc-font-color1);}.sc-section-summary-in + label:before{display:inline-block;content:'►';font-size:11px;width:15px;text-align:center;}.sc-section-summary-in:disabled + label:before{color:var(--sc-font-color3);}.sc-section-summary-in:checked + label:before{content:'▼';}.sc-section-summary-in:checked + label > span{display:none;}.sc-section-summary,.sc-section-inline-details{padding-top:4px;padding-bottom:4px;}.sc-section-inline-details{grid-column:2 / 6;}.sc-section-details{display:none;grid-column:1 / -1;margin-bottom:5px;}.sc-section-summary-in:checked ~ .sc-section-details{display:contents;}.sc-array-wrap{grid-column:1 / -1;display:grid;grid-template-columns:20px auto;}.sc-array-wrap > label{grid-column:1;vertical-align:top;}.sc-preview{color:var(--sc-font-color2);}.sc-array-preview,.sc-array-data{padding:0 5px !important;grid-column:2;}.sc-array-data,.sc-array-in:checked ~ .sc-array-preview{display:none;}.sc-array-in:checked ~ .sc-array-data,.sc-array-preview{display:inline-block;}.sc-dim-list{display:inline-block !important;list-style:none;padding:0 !important;margin:0;}.sc-dim-list li{display:inline-block;padding:0;margin:0!important;}.sc-dim-list:before{content:'(';}.sc-dim-list:after{content:')';}.sc-dim-list li:not(:last-child):after{content:',';padding-right:5px;}.sc-dim-list li span,.sc-standalone-var-name > span span,.sc-var-name > span span{padding:0 !important;}.sc-aligned{font-weight:bold;}.sc-var-list,.sc-var-item,.reveal .sc-var-list,.reveal .sc-var-item{display:contents;}.sc-var-item > div,.sc-var-item label,.sc-var-item > .sc-var-name span{background-color:var(--sc-background-color1);margin-bottom:0;}.sc-var-item > .sc-var-name:hover span{padding-right:5px;}.sc-var-list > li:nth-child(odd) > div,.sc-var-list > li:nth-child(odd) > label,.sc-var-list > li:nth-child(odd) > .sc-var-name span{background-color:var(--sc-background-color2);}.sc-var-name{grid-column:1;}.sc-var-dims{grid-column:2;}.sc-var-dtype{grid-column:3;text-align:right;color:var(--sc-font-color2);}.sc-var-unit{grid-column:4;text-align:left;color:var(--sc-font-color1);max-width:50pt;text-overflow:ellipsis;}.sc-value-preview{grid-column:5;}.sc-var-preview-variances{text-align:right;}.sc-sections .sc-section-item .sc-section-summary,.sc-sections .sc-section-item .sc-section-inline-details,.sc-section-item .sc-var-list .sc-var-item > div,.sc-section-item .sc-var-list .sc-var-item > label,.sc-section-details .sc-var-list .sc-var-item > div,.sc-section-details .sc-var-list .sc-var-item > label{margin-top:0;margin-bottom:0;}.sc-var-name,.sc-var-dims,.sc-var-dtype,.sc-var-unit,.sc-preview,.sc-attrs dt{white-space:nowrap;overflow:hidden;text-overflow:ellipsis;padding-right:10px;}.sc-var-name:hover,.sc-var-dims:hover,.sc-var-dtype:hover,.sc-var-unit:hover,.sc-attrs dt:hover{overflow:visible;width:auto;z-index:1;}.sc-var-attrs{display:block;}.sc-var-data,.reveal .sc-var-data{display:none;}.sc-var-attrs,.sc-var-data{background-color:var(--sc-background-color0) !important;padding-bottom:5px !important;}.sc-var-attrs-in:checked ~ .sc-var-attrs{display:none;}.sc-var-data-in:checked ~ .sc-var-data{display:block;}.sc-var-data > table{float:right;}.sc-var-name span,.sc-var-data{padding-left:25px !important;}.sc-var-attrs,.sc-var-data{grid-column:1 / -1;}dl.sc-attrs{padding:0;margin:0;display:grid;grid-template-columns:125px auto;}.sc-attrs dt,dd{padding:0;margin:0;float:left;padding-right:10px;width:auto;}.sc-attrs dt{font-weight:normal;grid-column:1;}.sc-attrs dt:hover span{display:inline-block;padding-right:10px;}.sc-attrs dd{grid-column:2;white-space:pre-wrap;word-break:break-all;}.sc-icon-database,.sc-icon-file-text2{display:inline-block;vertical-align:middle;width:1em;height:1.5em !important;stroke-width:0;stroke:currentColor;fill:currentColor;}label.sc-hide-icon svg{opacity:0;}.sc-standalone-var-name{grid-column:1/3;}.sc-standalone-var-name span{padding-left:25px;padding-right:10px;}.sc-title{font-weight:bold;font-size:1.5em;}.sc-subtitle{font-weight:normal;font-style:italic;text-align:left;font-size:1.2em;padding:1px;}.sc-label{fill:var(--sc-font-color0,#444444);text-anchor:middle;}.sc-name{fill:var(--sc-font-color0,#111111);}.sc-inset-line{stroke:var(--sc-font-color1);stroke-width:0.05;stroke-dasharray:0.2,0.2;}.sc-log-wrap{height:25ex;resize:vertical;overflow-y:scroll;display:flex;flex-direction:column-reverse;border:1px solid;border-color:var(--jp-border-color2);background-color:var(--sc-background-color1);}div.sc-log{line-height:2.5ex;}table.sc-log{table-layout:auto;border-collapse:collapse;}tr.sc-log:nth-child(even){background-color:var(--sc-background-color0);}tr.sc-log > td{vertical-align:top;padding-bottom:0.5ex;}.sc-log-time-stamp{min-width:22ch;font-family:var(--jp-code-font-family);color:var(--sc-font-color2);}.sc-log-level{min-width:10ch;}tr.sc-log-debug td.sc-log-level{color:var(--jp-accent-color1);}tr.sc-log-info td.sc-log-level{color:var(--jp-info-color1);}tr.sc-log-warning td.sc-log-level{color:var(--jp-warn-color1);}tr.sc-log-error td.sc-log-level{font-weight:bold;color:var(--jp-error-color2);}tr.sc-log-critical td.sc-log-level{font-weight:bold;color:var(--sc-background-color0);background-color:var(--jp-error-color1);}.sc-log-message{white-space:pre-wrap;width:100%;}.sc-log-html-payload{white-space:normal;}.sc-log-name{padding-right:0.5em;text-align:right;white-space:pre-wrap;color:var(--sc-font-color3);}</style><style id=\"datagroup-style-sheet\">.dg-root{white-space:normal;font-size:14px;min-width:300px;max-width:1200px;}.dg-root *{box-sizing:border-box;}.sc-header > label,.sc-header > label > div,.sc-header > label > div > ul{display:inline;margin-bottom:0;}.dg-header-in{display:none;}.dg-header-in + .sc-header > label:before{display:inline-block;font-size:11px;text-align:left;content:'►';}.dg-header-in:checked + .sc-header > label:before{content:'▼';}.dg-header-in ~ .dg-detail-box{display:none;}.dg-header-in:checked ~ .dg-detail-box{display:grid;}.dg-detail-box{margin-top:5px;margin-bottom:5px;column-gap:0 !important;display:grid;grid-template-columns:max-content max-content max-content max-content max-content max-content max-content;grid-template-areas:\"name        parent      object-type shape       dtype       unit        preview\";}.dg-detail-box *{margin-top:0;margin-bottom:0;}.dg-detail-list{display:contents;}.dg-detail-item{display:contents;list-style-type:none;}.dg-detail-item-in{display:none;}.dg-detail-item-in + .dg-detail-name > label:before{display:inline-block;font-size:14px;text-align:left;content:'►';}.dg-detail-item-in:checked + .dg-detail-name > label:before{content:'▼';}.dg-detail-item div,.dg-detail-item span,.dg-detail-item label{word-break:break-all;min-width:1em;max-width:20em;width:100%;}.dg-detail-item > div{display:contents;}.dg-detail-item > div > div > div{width:100%;}.dg-detail-item:hover > div > div{background-color:var(--sc-background-color2) !important;}.dg-detail-item > div span{padding-left:10px;padding-right:10px;}.dg-detail-item > div > div:first-of-type{grid-column-start:1;}.dg-detail-item-subsection{display:none;}.dg-detail-item-in{margin:0;}.dg-detail-item-in:checked ~ .dg-detail-item-subsection{display:contents;}.dg-detail-item .dg-detail-name{grid-area:\"name\";min-width:5em;}.dg-detail-name{padding-left:calc(var(--depth)*2em);}.dg-detail-name > label{padding-left:8px;}.dg-detail-name > label > span{padding-left:0.1em;}.dg-detail-item .dg-detail-parent{grid-area:\"parent\";text-align:right;}.dg-detail-item .dg-detail-objtype{grid-area:\"objtype\";text-align:left;}.dg-detail-item .dg-detail-shape{max-width:30em;grid-area:\"shape\";text-align:left;}.sc-header .dg-detail-shape{margin-left:1em;text-align:left;}.dg-detail-item .dg-detail-dtype{grid-area:\"dtype\";text-align:left;}.dg-detail-item .dg-detail-unit{grid-area:\"unit\";text-align:center;}.dg-detail-item .dg-detail-preview{grid-area:\"preview\";min-width:15em;max-width:100em !important;text-align:left;}.dg-detail-preview .sc-preview span,.dg-detail-shape span{padding:0 !important;}</style><div class='sc-root dg-root'><input class='dg-header-in' id='datagroup-view-78ef8176-22ca-4e91-aa53-b46345d61404' type='checkbox' checked><div class='sc-header'><label for=datagroup-view-78ef8176-22ca-4e91-aa53-b46345d61404 title='Expand/collapse'><div class='sc-obj-type'>scipp.DataGroup </div><div class='dg-detail-shape'>(panel: 3, id: 1638400)</div></label></div><div class='dg-detail-box'><ul class='dg-detail-list'><li class='dg-detail-item'><div><div class='dg-detail-name' style='--depth: 0;'><span>crystal_rotation</span></div><div class='dg-detail-parent'><span style='opacity: 0.5;'>scipp</span></div><div class='dg-detail-objtype'><span>Variable</span></div><div class='dg-detail-shape'>()</div><div class='dg-detail-dtype'><span>vector3</span></div><div class='dg-detail-unit'><span>deg</span></div><div class='dg-detail-preview'><span class='sc-preview'>[0. 0. 0.]</span></div></div></li><li class='dg-detail-item'><div><div class='dg-detail-name' style='--depth: 0;'><span>fast_axis</span></div><div class='dg-detail-parent'><span style='opacity: 0.5;'>scipp</span></div><div class='dg-detail-objtype'><span>Variable</span></div><div class='dg-detail-shape'>(panel: 3)</div><div class='dg-detail-dtype'><span>vector3</span></div><div class='dg-detail-unit'><span>𝟙</span></div><div class='dg-detail-preview'><span class='sc-preview'>[0.00531614 0.         0.99998587], [ 0.999986    0.         -0.00529148], [-0.00531614  0.         -0.99998587]</span></div></div></li><li class='dg-detail-item'><div><div class='dg-detail-name' style='--depth: 0;'><span>slow_axis</span></div><div class='dg-detail-parent'><span style='opacity: 0.5;'>scipp</span></div><div class='dg-detail-objtype'><span>Variable</span></div><div class='dg-detail-shape'>(panel: 3)</div><div class='dg-detail-dtype'><span>vector3</span></div><div class='dg-detail-unit'><span>𝟙</span></div><div class='dg-detail-preview'><span class='sc-preview'>[0. 1. 0.], [0. 1. 0.], [0. 1. 0.]</span></div></div></li><li class='dg-detail-item'><div><div class='dg-detail-name' style='--depth: 0;'><span>origin_position</span></div><div class='dg-detail-parent'><span style='opacity: 0.5;'>scipp</span></div><div class='dg-detail-objtype'><span>Variable</span></div><div class='dg-detail-shape'>(panel: 3)</div><div class='dg-detail-dtype'><span>vector3</span></div><div class='dg-detail-unit'><span>m</span></div><div class='dg-detail-preview'><span class='sc-preview'>[-0.249996  0.        0.001   ], [0.001701 0.       0.32    ], [ 0.249996  0.       -0.001   ]</span></div></div></li><li class='dg-detail-item'><div><div class='dg-detail-name' style='--depth: 0;'><span>sample_position</span></div><div class='dg-detail-parent'><span style='opacity: 0.5;'>scipp</span></div><div class='dg-detail-objtype'><span>Variable</span></div><div class='dg-detail-shape'>()</div><div class='dg-detail-dtype'><span>vector3</span></div><div class='dg-detail-unit'><span>m</span></div><div class='dg-detail-preview'><span class='sc-preview'>[0. 0. 0.]</span></div></div></li><li class='dg-detail-item'><div><div class='dg-detail-name' style='--depth: 0;'><span>source_position</span></div><div class='dg-detail-parent'><span style='opacity: 0.5;'>scipp</span></div><div class='dg-detail-objtype'><span>Variable</span></div><div class='dg-detail-shape'>()</div><div class='dg-detail-dtype'><span>vector3</span></div><div class='dg-detail-unit'><span>m</span></div><div class='dg-detail-preview'><span class='sc-preview'>[  -0.491556    0.       -156.714   ]</span></div></div></li><li class='dg-detail-item'><div><div class='dg-detail-name' style='--depth: 0;'><span>sample_name</span></div><div class='dg-detail-parent'><span style='opacity: 0.5;'>scipp</span></div><div class='dg-detail-objtype'><span>Variable</span></div><div class='dg-detail-shape'>()</div><div class='dg-detail-dtype'><span>string</span></div><div class='dg-detail-unit'><span></span></div><div class='dg-detail-preview'><span class='sc-preview'>sampleMantid</span></div></div></li><li class='dg-detail-item'><div><div class='dg-detail-name' style='--depth: 0;'><span>position</span></div><div class='dg-detail-parent'><span style='opacity: 0.5;'>scipp</span></div><div class='dg-detail-objtype'><span>Variable</span></div><div class='dg-detail-shape'>(panel: 3, id: 1638400)</div><div class='dg-detail-dtype'><span>vector3</span></div><div class='dg-detail-unit'><span>m</span></div><div class='dg-detail-preview'><span class='sc-preview'>[-0.25135693 -0.256      -0.25499638], [-0.25135481 -0.256      -0.25459639], ..., [ 0.24863932  0.2556     -0.25619639], [ 0.24863719  0.2556     -0.25659639]</span></div></div></li></ul></div></div></div>"
      ],
      "text/plain": [
       "DataGroup(sizes={'panel': 3, 'id': 1638400}, keys=[\n",
       "    crystal_rotation: Variable({}),\n",
       "    fast_axis: Variable({'panel': 3}),\n",
       "    slow_axis: Variable({'panel': 3}),\n",
       "    origin_position: Variable({'panel': 3}),\n",
       "    sample_position: Variable({}),\n",
       "    source_position: Variable({}),\n",
       "    sample_name: Variable({}),\n",
       "    position: Variable({'panel': 3, 'id': 1638400}),\n",
       "])"
      ]
     },
     "execution_count": 25,
     "metadata": {},
     "output_type": "execute_result"
    }
   ],
   "source": [
    "nmxmetadata = mdwf.compute(NMXMetadata)\n",
    "nmxmetadata"
   ]
  },
  {
   "cell_type": "code",
   "execution_count": 70,
   "metadata": {},
   "outputs": [
    {
     "data": {
      "text/plain": [
       "('P 21 21 21', 19)"
      ]
     },
     "execution_count": 70,
     "metadata": {},
     "output_type": "execute_result"
    }
   ],
   "source": [
    "sg = refined_experiments[0].crystal.get_space_group()\n",
    "sg_info = sg.info().symbol_and_number().split('(')\n",
    "num = int(''.join(filter(str.isdigit, sg_info[1])))\n",
    "sgstr = sg_info[0].rstrip()\n",
    "(sgstr,num)"
   ]
  },
  {
   "cell_type": "code",
   "execution_count": 76,
   "metadata": {},
   "outputs": [
    {
     "data": {
      "text/plain": [
       "(34.741638082128595, 35.80710864687599, 44.56594505425292, 90.0, 90.0, 90.0)"
      ]
     },
     "execution_count": 76,
     "metadata": {},
     "output_type": "execute_result"
    }
   ],
   "source": [
    "uc = refined_experiments[0].crystal.get_unit_cell()\n",
    "uc.parameters()"
   ]
  },
  {
   "cell_type": "code",
   "execution_count": null,
   "metadata": {},
   "outputs": [],
   "source": []
  }
 ],
 "metadata": {
  "kernelspec": {
   "display_name": "base",
   "language": "python",
   "name": "python3"
  },
  "language_info": {
   "codemirror_mode": {
    "name": "ipython",
    "version": 3
   },
   "file_extension": ".py",
   "mimetype": "text/x-python",
   "name": "python",
   "nbconvert_exporter": "python",
   "pygments_lexer": "ipython3",
   "version": "3.11.10"
  }
 },
 "nbformat": 4,
 "nbformat_minor": 4
}
