{
 "cells": [
  {
   "cell_type": "markdown",
   "metadata": {},
   "source": [
    "# NMX Demo\n",
    "In this example, we will use simulated data from McStas v.3.4.\n",
    "\n",
    "This is simulated data on a crystal of Rubredoxin, a small protein, using the \"standard\" conditions for NMX. <br>\n",
    "| Parameter | Value | Notes |\n",
    "|-----------|-------|-------|\n",
    "| `wavelength_range` ($\\mathring A$) | 1.8 - 3.55 | The planned range for standard NMX experiments |\n",
    "| `protein_name` | Rubredoxin | Associated Common protein name |\n",
    "| `unit_cell` | $a$ = 33.9 $b$ = 34.9 $c$ = 43.5 <br>  $\\alpha$ = $\\beta$ = $\\gamma$ = 90 | Unit cell of rubredoxin |\n",
    "| `space_group` | $P2_{1}2_{1}2_{1}$ | Space group of rubredoxin\n",
    "\n",
    "## Build Pipeline (Collect Parameters and Providers)\n",
    "Import the providers from ``load_mcstas_nexus`` to use the ``McStas`` simulation data workflow. <br>\n",
    "``MaximumProbability`` can be manually provided to derive more realistic number of events. <br>\n",
    "It is because ``weights`` are given as probability, not number of events in a McStas file. <br>"
   ]
  },
  {
   "metadata": {},
   "cell_type": "code",
   "outputs": [],
   "execution_count": null,
   "source": [
    "from pathlib import Path\n",
    "\n",
    "from ess.nmx.mcstas import McStasWorkflow\n",
    "from ess.nmx.data import small_mcstas_3_sample\n",
    "\n",
    "from ess.nmx.types import *\n",
    "from ess.nmx.reduction import NMXData, NMXReducedData, merge_panels\n",
    "from ess.nmx.nexus import export_as_nexus"
   ]
  },
  {
   "metadata": {},
   "cell_type": "code",
   "outputs": [],
   "execution_count": null,
   "source": "datafile = \"nmx_by_scipp_2E12.h5\""
  },
  {
   "metadata": {},
   "cell_type": "code",
   "outputs": [],
   "execution_count": null,
   "source": [
    "from nmx_workflow.config import POOCH_DATA_DIR\n",
    "from nmx_workflow.dataset import download_datafiles\n",
    "download_datafiles([datafile])"
   ]
  },
  {
   "metadata": {},
   "cell_type": "code",
   "outputs": [],
   "execution_count": null,
   "source": [
    "wf = McStasWorkflow()\n",
    "# Replace with the path to your own file\n",
    "wf[FilePath] = POOCH_DATA_DIR / datafile\n",
    "wf[MaximumProbability] = 10000\n",
    "wf[TimeBinSteps] = 50"
   ]
  },
  {
   "metadata": {},
   "cell_type": "code",
   "outputs": [],
   "execution_count": null,
   "source": "wf"
  },
  {
   "metadata": {},
   "cell_type": "markdown",
   "source": "We want to reduce all three panels, so we map the relevant part of the workflow over a list of the three panels:"
  },
  {
   "metadata": {},
   "cell_type": "code",
   "outputs": [],
   "execution_count": null,
   "source": [
    "# DetectorIndex selects what detector panels to include in the run\n",
    "# in this case we select all three panels.\n",
    "wf[NMXReducedData] = (\n",
    "    wf[NMXReducedData]\n",
    "    .map({DetectorIndex: sc.arange('panel', 3, unit=None)})\n",
    "    .reduce(index=\"panel\", func=merge_panels)\n",
    ")"
   ]
  },
  {
   "metadata": {},
   "cell_type": "markdown",
   "source": "## Build Workflow"
  },
  {
   "metadata": {},
   "cell_type": "code",
   "outputs": [],
   "execution_count": null,
   "source": "wf.visualize(NMXReducedData, graph_attr={\"rankdir\": \"TD\"}, compact=True)"
  },
  {
   "metadata": {},
   "cell_type": "markdown",
   "source": "## Compute Desired Types"
  },
  {
   "metadata": {},
   "cell_type": "code",
   "outputs": [],
   "execution_count": null,
   "source": [
    "from cyclebane.graph import NodeName, IndexValues\n",
    "\n",
    "# Event data grouped by pixel id for each of the selected detectors\n",
    "targets = [NodeName(NMXData, IndexValues((\"panel\",), (i,))) for i in range(3)]\n",
    "dg = merge_panels(*wf.compute(targets).values())\n",
    "dg"
   ]
  },
  {
   "metadata": {},
   "cell_type": "code",
   "outputs": [],
   "execution_count": null,
   "source": [
    "# Data from all selected detectors binned by panel, pixel and timeslice\n",
    "binned_dg = wf.compute(NMXReducedData)\n",
    "binned_dg"
   ]
  },
  {
   "metadata": {},
   "cell_type": "markdown",
   "source": [
    "## Export Results\n",
    "\n",
    "``NMXReducedData`` object has a method to export the data into nexus or h5 file.\n",
    "\n",
    "You can save the result as ``test.nxs``, for example:\n"
   ]
  },
  {
   "metadata": {},
   "cell_type": "code",
   "outputs": [],
   "execution_count": null,
   "source": [
    "from nmx_workflow.config import PROCESSED_DATA_DIR\n",
    "\n",
    "nexus_file = PROCESSED_DATA_DIR / \"scipp_export.nxs\"\n",
    "export_as_nexus(binned_dg, nexus_file)"
   ]
  },
  {
   "metadata": {},
   "cell_type": "markdown",
   "source": [
    "## Instrument View\n",
    "\n",
    "Pixel positions are not used for later steps,\n",
    "but it is included in the coordinates for instrument view.\n",
    "\n",
    "All pixel positions are relative to the sample position,\n",
    "therefore the sample is at (0, 0, 0).\n",
    "\n",
    "**It might be very slow or not work in the ``VS Code`` jupyter notebook editor.**"
   ]
  },
  {
   "metadata": {},
   "cell_type": "code",
   "outputs": [],
   "execution_count": null,
   "source": [
    "import scippneutron as scn\n",
    "\n",
    "da = dg[\"weights\"]\n",
    "da.coords[\"position\"] = dg[\"position\"]\n",
    "# Plot one out of 100 pixels to reduce size of docs output\n",
    "view = scn.instrument_view(da[\"id\", ::100].hist(), pixel_size=0.0075)\n",
    "view"
   ]
  },
  {
   "metadata": {},
   "cell_type": "markdown",
   "source": "The below is a quick workaround for current DIALS install, will be fixed in DIALS later."
  },
  {
   "metadata": {},
   "cell_type": "code",
   "outputs": [],
   "execution_count": null,
   "source": [
    "import h5py\n",
    "\n",
    "with h5py.File(nexus_file,'r+') as fp:\n",
    "    det_data = fp['NMX_data']['NXinstrument']['detector_1']\n",
    "    fp['NMX_data']['detector_1'] =  det_data\n",
    "    del fp['NMX_data']['NXinstrument']['detector_1']\n"
   ]
  },
  {
   "metadata": {},
   "cell_type": "markdown",
   "source": [
    "## Data Reduction with DIALS\n",
    "\n",
    "DIALS will be used for spotfinding, indexing, integration."
   ]
  },
  {
   "metadata": {},
   "cell_type": "code",
   "outputs": [],
   "execution_count": null,
   "source": [
    "from libtbx.phil import parse\n",
    "\n",
    "from dials.command_line import dials_import\n",
    "from dials.command_line import find_spots\n",
    "from dials.command_line import index\n",
    "\n"
   ]
  },
  {
   "metadata": {},
   "cell_type": "markdown",
   "source": [
    "## Importing Data into DIALS\n",
    "\n",
    "DIALS uses PHIL (Python-based hierarchical interchange language), a JSON-like format for setting and organizing parameters for each processing module."
   ]
  },
  {
   "metadata": {},
   "cell_type": "code",
   "outputs": [],
   "execution_count": null,
   "source": [
    "import_phil = dials_import.phil_scope\n",
    "format_phil = parse(f\"\"\"\n",
    "output {{\n",
    "    experiments = {PROCESSED_DATA_DIR}/imported.expt\n",
    "    log = '{PROCESSED_DATA_DIR}/dials.import.log'\n",
    "}}\n",
    "\"\"\")\n",
    "working_phil = import_phil.fetch(\n",
    "    sources = [format_phil])"
   ]
  },
  {
   "metadata": {},
   "cell_type": "code",
   "outputs": [],
   "execution_count": null,
   "source": "dials_import.run(args=[str(nexus_file)], phil=working_phil)"
  },
  {
   "metadata": {},
   "cell_type": "markdown",
   "source": [
    "## Spot Finding\n",
    "\n",
    "Spotfinding looks for spots on images separated by time bins."
   ]
  },
  {
   "metadata": {},
   "cell_type": "code",
   "outputs": [],
   "execution_count": null,
   "source": [
    "from libtbx.phil import parse\n",
    "\n",
    "findSpots = parse(f\"\"\"\n",
    "output {{\n",
    "    reflections = '{PROCESSED_DATA_DIR}/strong.refl'\n",
    "    log = '{PROCESSED_DATA_DIR}/dials.find_spots.log'\n",
    "}}\n",
    "spotfinder {{\n",
    "    threshold {{\n",
    "    algorithm = radial_profile\n",
    "       dispersion {{\n",
    "         gain = 0.01\n",
    "         kernel_size = 50 50\n",
    "         sigma_background = 1\n",
    "         sigma_strong = 2\n",
    "         min_local = 1\n",
    "            }}\n",
    "         \n",
    "    }}\n",
    "    filter {{\n",
    "       min_spot_size = 80\n",
    "       max_spot_size = 9000\n",
    "       max_separation = 20\n",
    "    }}\n",
    "}}\n",
    "\"\"\")\n",
    "\n",
    "working_phil = find_spots.working_phil\n",
    "\n",
    "findSpots_phil = working_phil.fetch(\n",
    "    sources=[findSpots])"
   ]
  },
  {
   "metadata": {},
   "cell_type": "code",
   "outputs": [],
   "execution_count": null,
   "source": "display(find_spots.run(args=[str(PROCESSED_DATA_DIR/'imported.expt'),str(PROCESSED_DATA_DIR/'find_spots.phil')],phil=find_spots.working_phil))"
  },
  {
   "metadata": {},
   "cell_type": "markdown",
   "source": "## Indexing in DIALS"
  },
  {
   "metadata": {},
   "cell_type": "code",
   "outputs": [],
   "execution_count": null,
   "source": "display(index.run(args=[str(PROCESSED_DATA_DIR/'imported.expt'),str(PROCESSED_DATA_DIR/'strong.refl'), 'unit_cell=33.41,34.75,43.65,90,90,90','space_group=P212121']))"
  },
  {
   "cell_type": "code",
   "execution_count": 55,
   "metadata": {},
   "outputs": [
    {
     "name": "stdout",
     "output_type": "stream",
     "text": [
      "<frozen importlib._bootstrap>:241: RuntimeWarning: to-Python converter for dials::algorithms::profile_model::gaussian_rs::BBoxMultiCalculator already registered; second conversion method ignored.\n",
      "\n",
      "<frozen importlib._bootstrap>:241: RuntimeWarning: to-Python converter for dials::algorithms::profile_model::gaussian_rs::BBoxMultiCalculator already registered; second conversion method ignored.\n",
      "\n",
      "<frozen importlib._bootstrap>:241: RuntimeWarning: to-Python converter for dials::algorithms::profile_model::gaussian_rs::BBoxMultiCalculator already registered; second conversion method ignored.\n",
      "\n",
      "<frozen importlib._bootstrap>:241: RuntimeWarning: to-Python converter for dials::algorithms::profile_model::gaussian_rs::BBoxMultiCalculator already registered; second conversion method ignored.\n",
      "\n",
      "<frozen importlib._bootstrap>:241: RuntimeWarning: to-Python converter for dials::algorithms::profile_model::gaussian_rs::BBoxMultiCalculator already registered; second conversion method ignored.\n",
      "\n",
      "<frozen importlib._bootstrap>:241: RuntimeWarning: to-Python converter for dials::algorithms::profile_model::gaussian_rs::BBoxMultiCalculator already registered; second conversion method ignored.\n",
      "\n",
      "<frozen importlib._bootstrap>:241: RuntimeWarning: to-Python converter for dials::algorithms::profile_model::gaussian_rs::BBoxMultiCalculator already registered; second conversion method ignored.\n",
      "\n",
      "<frozen importlib._bootstrap>:241: RuntimeWarning: to-Python converter for dials::algorithms::profile_model::gaussian_rs::BBoxMultiCalculator already registered; second conversion method ignored.\n",
      "\n",
      "<frozen importlib._bootstrap>:241: RuntimeWarning: to-Python converter for dials::algorithms::profile_model::gaussian_rs::BBoxMultiCalculator already registered; second conversion method ignored.\n",
      "\n",
      "<frozen importlib._bootstrap>:241: RuntimeWarning: to-Python converter for dials::algorithms::profile_model::gaussian_rs::BBoxMultiCalculator already registered; second conversion method ignored.\n",
      "\n",
      "<frozen importlib._bootstrap>:241: RuntimeWarning: to-Python converter for dials::algorithms::profile_model::gaussian_rs::BBoxMultiCalculator already registered; second conversion method ignored.\n",
      "\n",
      "<frozen importlib._bootstrap>:241: RuntimeWarning: to-Python converter for dials::algorithms::profile_model::gaussian_rs::BBoxMultiCalculator already registered; second conversion method ignored.\n",
      "\n",
      "<frozen importlib._bootstrap>:241: RuntimeWarning: to-Python converter for dials::algorithms::profile_model::gaussian_rs::BBoxMultiCalculator already registered; second conversion method ignored.\n",
      "\n",
      "<frozen importlib._bootstrap>:241: RuntimeWarning: to-Python converter for dials::algorithms::profile_model::gaussian_rs::BBoxMultiCalculator already registered; second conversion method ignored.\n",
      "\n",
      "<frozen importlib._bootstrap>:241: RuntimeWarning: to-Python converter for dials::algorithms::profile_model::gaussian_rs::BBoxMultiCalculator already registered; second conversion method ignored.\n",
      "\n",
      "<frozen importlib._bootstrap>:241: RuntimeWarning: to-Python converter for dials::algorithms::profile_model::gaussian_rs::BBoxMultiCalculator already registered; second conversion method ignored.\n",
      "\n",
      "<frozen importlib._bootstrap>:241: RuntimeWarning: to-Python converter for dials::algorithms::profile_model::gaussian_rs::BBoxMultiCalculator already registered; second conversion method ignored.\n",
      "\n",
      "The following parameters have been modified:\n",
      "\n",
      "input {\n",
      "  experiments = imported.expt\n",
      "}\n",
      "\n"
     ]
    },
    {
     "name": "stderr",
     "output_type": "stream",
     "text": [
      "2024-10-16 12:34:08.910 python[7244:9494944] Warning: The declared constraints for <NSToolbarItemViewer: 0x319eca5c0 '105553141183232'> were previously invalidated only because a declared constraint was snipped or manually deactivated. This indicates missing invalidation for a view's changing state that affects its declared constraints. To debug, set a breakpoint on `_NSViewRemovedDeclaredConstraintBreakpoint`\n",
      "2024-10-16 12:34:08.910 python[7244:9494944] Warning: The declared constraints for <NSToolbarItemViewer: 0x319ecbd70 '105553141177600'> were previously invalidated only because a declared constraint was snipped or manually deactivated. This indicates missing invalidation for a view's changing state that affects its declared constraints. To debug, set a breakpoint on `_NSViewRemovedDeclaredConstraintBreakpoint`\n",
      "2024-10-16 12:34:08.910 python[7244:9494944] Warning: The declared constraints for <NSToolbarItemViewer: 0x319ed0480 '105553141272576'> were previously invalidated only because a declared constraint was snipped or manually deactivated. This indicates missing invalidation for a view's changing state that affects its declared constraints. To debug, set a breakpoint on `_NSViewRemovedDeclaredConstraintBreakpoint`\n",
      "2024-10-16 12:34:08.910 python[7244:9494944] Warning: The declared constraints for <NSToolbarItemViewer: 0x319ed1c30 '105553141354496'> were previously invalidated only because a declared constraint was snipped or manually deactivated. This indicates missing invalidation for a view's changing state that affects its declared constraints. To debug, set a breakpoint on `_NSViewRemovedDeclaredConstraintBreakpoint`\n",
      "2024-10-16 12:34:08.910 python[7244:9494944] Warning: The declared constraints for <NSToolbarItemViewer: 0x319ed33e0 '105553141355008'> were previously invalidated only because a declared constraint was snipped or manually deactivated. This indicates missing invalidation for a view's changing state that affects its declared constraints. To debug, set a breakpoint on `_NSViewRemovedDeclaredConstraintBreakpoint`\n"
     ]
    }
   ],
   "source": ""
  },
  {
   "cell_type": "code",
   "execution_count": null,
   "metadata": {},
   "outputs": [],
   "source": []
  }
 ],
 "metadata": {
  "kernelspec": {
   "display_name": "Python 3 (ipykernel)",
   "language": "python",
   "name": "python3"
  },
  "language_info": {
   "codemirror_mode": {
    "name": "ipython",
    "version": 3
   },
   "file_extension": ".py",
   "mimetype": "text/x-python",
   "name": "python",
   "nbconvert_exporter": "python",
   "pygments_lexer": "ipython3",
   "version": "3.13.0"
  }
 },
 "nbformat": 4,
 "nbformat_minor": 4
}
